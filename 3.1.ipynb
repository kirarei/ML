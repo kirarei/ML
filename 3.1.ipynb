{
 "metadata": {
  "name": "",
  "signature": "sha256:0ceb8552fec23e7cebf0c48fd45f55e60ba5f47e9c1b52f07a7faff5d9869329"
 },
 "nbformat": 3,
 "nbformat_minor": 0,
 "worksheets": [
  {
   "cells": [
    {
     "cell_type": "markdown",
     "metadata": {},
     "source": [
      "  # Decision Tree\n",
      "  \n",
      "  ![Figure 3.1](https://farm9.staticflickr.com/8741/16820586852_a5ee86e65c_o.png)\n",
      "\uac01\uac01\uc758 \ub178\ub4dc\uac00 \ub450\uac1c\uc758 \uc790\uc2dd \ub178\ub4dc\ub97c \ub9cc\ub4e4\uc5b4 yes/no \uc9c8\ubb38\uc5d0 \ub2f5\ud568\uc73c\ub85c\uc368 \ud130\ubbf8\ub110 \ub178\ub4dc\uae4c\uc9c0 \uc9c4\ud589\ud574 \ub098\uac00\ub294 \ubc29\ubc95\n",
      "\n",
      "\n",
      "\n",
      "- \uc7a5\uc810\n",
      "\n",
      ": \uacc4\uc0b0 \ube44\uc6a9\uc758 \uc801\uc74c\n",
      "\n",
      ": \ud559\uc2b5\ub41c \uacb0\uacfc\ub97c \uc0ac\ub78c\uc774 \uc774\ud574\ud558\uae30 \uc26c\uc6c0\n",
      "\n",
      ": \ub204\ub77d\ub41c \uac12(missing values)\uc774 \uc788\uc5b4\ub3c4 \ucc98\ub9ac\uac00\ub2a5\n",
      "\n",
      ": \ubd84\ub958\uc640 \uad00\ub828 \uc5c6\ub294 \uc18d\uc131\uc774 \uc788\uc5b4\ub3c4 \ucc98\ub9ac\uac00\ub2a5\n",
      "\n",
      "\n",
      "\n",
      "- \ub2e8\uc810\n",
      "\n",
      "Overfitting(\uacfc\uc801\ud569)\uc774 \ub418\uae30 \uc26c\uc6c0\n",
      "\n",
      "\n",
      "- \uc801\uc6a9\n",
      "\n",
      "\uba85\ubaa9\ud615, \uc218\uce58\ud615 \uac12\n",
      "\n",
      "  \n",
      "  # General Considerations\n",
      "  \n",
      "   Step1. \uc5d4\ud2b8\ub85c\ud53c\uc758 \ucd08\uae30\uac12\uc744 \uacc4\uc0b0\ud55c\ub2e4.\n",
      "   \n",
      "   Step2. Decision tree\uc758 root node\uac00 \ub420 \ubcc0\uc218\ub97c \uc120\ud0dd\ud55c\ub2e4.\n",
      "   \n",
      "   Step3. Decision tree\uc758 \ub2e4\uc74c level\uc744 \ub9cc\ub4e0\ub2e4.\n",
      "   \n",
      "   Step4. Step1\uc5d0\uc11c 3\uae4c\uc9c0 \ubc18\ubcf5\ud55c\ub2e4.\n",
      "   \n",
      "    -\ud574\ub2f9 \ub178\ub4dc\uc5d0 \uc18d\ud558\ub294 \ub808\ucf54\ub4dc\ub4e4\uc774 \ubaa8\ub450 \uac19\uc740 \ud074\ub798\uc2a4\ub97c \uac16\ub294\ub2e4.\n",
      "    \n",
      "    -\ub354\uc774\uc0c1 \uc0ac\uc6a9\ud560 \uc18d\uc131\uc774 \uc5c6\ub2e4."
     ]
    },
    {
     "cell_type": "markdown",
     "metadata": {},
     "source": [
      "![Table 3.1](https://farm8.staticflickr.com/7654/16634315150_cff5172787_o.png)\n",
      "\n"
     ]
    },
    {
     "cell_type": "code",
     "collapsed": false,
     "input": [
      "from math import log\n",
      "import operator\n",
      "import trees\n",
      "\n",
      "def createDataSet():\n",
      "    dataSet = [[1, 1, 'yes'],\n",
      "               [1, 1, 'yes'],\n",
      "               [1, 0, 'no'],\n",
      "               [0, 1, 'no'],\n",
      "               [0, 1, 'no']]\n",
      "    labels = ['no surfacing','flippers']\n",
      "    #change to discrete values\n",
      "    return dataSet, labels\n",
      "\n",
      "myDat,labels=trees.createDataSet()\n",
      "\n",
      "myDat"
     ],
     "language": "python",
     "metadata": {},
     "outputs": [
      {
       "metadata": {},
       "output_type": "pyout",
       "prompt_number": 5,
       "text": [
        "[[1, 1, 'yes'], [1, 1, 'yes'], [1, 0, 'no'], [0, 1, 'no'], [0, 1, 'no']]"
       ]
      }
     ],
     "prompt_number": 5
    },
    {
     "cell_type": "markdown",
     "metadata": {},
     "source": [
      "# Shannon Entropy (= entropy)\n",
      " \n",
      " : \ubd84\ud560\ud558\uae30 \uac00\uc7a5 \uc88b\uc740 \uc18d\uc131 \uce21\uc815\ud558\uae30 \uc704\ud574, \ub370\uc774\ud130 \uc9d1\ud569\uc5d0 \ub300\ud55c \uc815\ubcf4\uce21\uc815 \ubc29\ubc95\uc73c\ub85c \uc0ac\uc6a9\n",
      " : \uc815\ubcf4\uc5d0 \ub300\ud55c \uae30\ub300 \uac12 \n",
      " \n",
      " \n",
      " : \uc5d4\ud2b8\ub85c\ud53c(entropy)\ub294 \uc8fc\uc5b4\uc9c4 \ub370\uc774\ud130 \uc9d1\ud569\uc758 \ud63c\uc7a1\ub3c4\ub97c \uc758\ubbf8\ud55c\ub2e4. \uc989, \uc8fc\uc5b4\uc9c4 \ub370\uc774\ud130 \uc9d1\ud569\uc5d0 \ub808\ucf54\ub4dc\ub4e4\uc774 \uc11c\ub85c \ub2e4\ub978 \uc885\ub958(\ud074\ub798\uc2a4)\ub4e4\uc774 \ub9ce\uc774 \uc11e\uc5ec\uc788\uc73c\uba74 \uc5d4\ud2b8\ub85c\ud53c\uac00 \ub192\uace0, \uac19\uc740 \uc885\ub958(\ud074\ub798\uc2a4)\uc758 \ub808\ucf54\ub4dc\ub4e4\uc774 \ub9ce\uc774 \uc788\uc73c\uba74 \uc5d4\ud2b8\ub85c\ud53c\uac00 \ub0ae\ub2e4. \uc758\uc0ac\uacb0\uc815\ud2b8\ub9ac \ubd84\ub958 \uc54c\uace0\ub9ac\uc998\uc5d0\uc11c\ub294 \uc5d4\ud2b8\ub85c\ud53c\uac00 \ub192\uc740 \uc0c1\ud0dc\uc5d0\uc11c \ub0ae\uc740 \uc0c1\ud0dc\uac00 \ub418\ub3c4\ub85d \ub370\uc774\ud130\ub97c \ud2b9\uc815 \uc870\uac74\uc744 \ucc3e\uc544 \ud2b8\ub9ac \ubaa8\uc591\uc73c\ub85c \uad6c\ubd84\ud574 \ub098\uac04\ub2e4.\n",
      " \n",
      "$ H\\quad =\\quad -\\sum _{ i=1 }^{ n }{ p({ x }_{ i })\\log _{ 2 }{ p({ x }_{ i }) }  } $\n",
      "\n",
      "$ p({ x }_{ i })\\quad =\\quad \\frac { freq({ C }_{ i },\\quad S) }{ |S| }  $\n",
      "\n",
      "S: \uc8fc\uc5b4\uc9c4 \ub370\uc774\ud130\ub4e4\uc758 \uc9d1\ud569\n",
      "\n",
      "C: \ud074\ub798\uc2a4\uac12\ub4e4\uc758 \uc9d1\ud569\n",
      "\n",
      "$freq({ C }_{ i },\\quad S) $: S\uc5d0\uc11c class C\uc5d0 \uc18d\ud558\ub294 \ub808\ucf54\ub4dc\uc758 \uc218\n",
      "\n",
      "|S|: \uc8fc\uc5b4\uc9c4 \ub370\uc774\ud130\ub4e4\uc758 \uc9d1\ud569\uc758 \uac1c\uc218\n",
      "\n"
     ]
    },
    {
     "cell_type": "code",
     "collapsed": false,
     "input": [
      "import trees\n",
      "\n",
      "def calcShannonEnt(dataSet):\n",
      "        \n",
      "    numEntries = len(dataSet)\n",
      "    labelCounts = {}\n",
      "    for featVec in dataSet: #the the number of unique elements and their occurance\n",
      "        currentLabel = featVec[-1]\n",
      "        if currentLabel not in labelCounts.keys(): labelCounts[currentLabel] = 0\n",
      "        labelCounts[currentLabel] += 1\n",
      "    shannonEnt = 0.0\n",
      "    for key in labelCounts:\n",
      "        prob = float(labelCounts[key])/numEntries\n",
      "        shannonEnt -= prob * log(prob,2) #log base 2\n",
      "    return shannonEnt\n",
      "\n",
      "myDat,labels=trees.createDataSet()\n",
      "trees.calcShannonEnt(myDat)"
     ],
     "language": "python",
     "metadata": {},
     "outputs": [
      {
       "metadata": {},
       "output_type": "pyout",
       "prompt_number": 7,
       "text": [
        "0.9709505944546686"
       ]
      }
     ],
     "prompt_number": 7
    },
    {
     "cell_type": "markdown",
     "metadata": {},
     "source": [
      "##splitDataSet(dataSet, axis, value)\n",
      " yes/no\ub85c \ud2b8\ub9ac\uac00 \ub098\ub204\uc5b4\uc9c0\uae30 \ub54c\ubb38\uc5d0 \ud55c \uc18d\uc131\uc744 \uae30\uc900\uc73c\ub85c dataset\uc744 \ub098\ub204\uc5b4\uc8fc\ub294 \uacfc\uc815.\n",
      " \n",
      " dataSet: \ub370\uc774\ud130 \uc9d1\ud569\n",
      " \n",
      " axis: \uae30\uc900 \uc18d\uc131\n",
      " \n",
      " value: \uae30\uc900 \uac12"
     ]
    },
    {
     "cell_type": "code",
     "collapsed": false,
     "input": [
      "import trees\n",
      "\n",
      "def splitDataSet(dataSet, axis, value):\n",
      "    retDataSet = []\n",
      "    for featVec in dataSet:\n",
      "        if featVec[axis] == value:\n",
      "            reducedFeatVec = featVec[:axis]     #chop out axis used for splitting\n",
      "            reducedFeatVec.extend(featVec[axis+1:])\n",
      "            retDataSet.append(reducedFeatVec)\n",
      "    return retDataSet\n",
      "\n",
      "myDat,labels=trees.createDataSet()\n",
      "trees.splitDataSet(myDat, 0, 1)                    #0\ubc88\uc778\ub371\uc2a4\uc758 \uc18d\uc131\uc744 \uae30\uc900\uc73c\ub85c \uac12\uc774 1\uc778 \uac12\ub4e4\ub85c \ud2b8\ub9ac\ub97c \ub098\ub208\ub2e4."
     ],
     "language": "python",
     "metadata": {},
     "outputs": [
      {
       "metadata": {},
       "output_type": "pyout",
       "prompt_number": 8,
       "text": [
        "[[1, 'yes'], [1, 'yes'], [0, 'no']]"
       ]
      }
     ],
     "prompt_number": 8
    },
    {
     "cell_type": "code",
     "collapsed": false,
     "input": [
      "import trees\n",
      "\n",
      "def splitDataSet(dataSet, axis, value):\n",
      "    retDataSet = []\n",
      "    for featVec in dataSet:\n",
      "        if featVec[axis] == value:\n",
      "            reducedFeatVec = featVec[:axis]     #chop out axis used for splitting\n",
      "            reducedFeatVec.extend(featVec[axis+1:])\n",
      "            retDataSet.append(reducedFeatVec)\n",
      "    return retDataSet\n",
      "\n",
      "myDat,labels=trees.createDataSet()\n",
      "trees.splitDataSet(myDat, 0, 0)"
     ],
     "language": "python",
     "metadata": {},
     "outputs": [
      {
       "metadata": {},
       "output_type": "pyout",
       "prompt_number": 6,
       "text": [
        "[[1, 'no'], [1, 'no']]"
       ]
      }
     ],
     "prompt_number": 6
    },
    {
     "cell_type": "markdown",
     "metadata": {},
     "source": [
      "#Information Gain\n",
      " \uc815\ubcf4 \uc774\ub4dd(information gain)\uc774\ub780 \uc5b4\ub5a4 \uc18d\uc131\uc744 \uc120\ud0dd\ud568\uc73c\ub85c \uc778\ud574\uc11c \ub370\uc774\ud130\ub97c \ub354 \uc798 \uad6c\ubd84\ud558\uac8c \ub418\ub294 \uac83\uc744 \uc758\ubbf8\ud55c\ub2e4. \n",
      " \n",
      "$ IG(T, a) =  H(T) - H(T|a) $\n",
      "\n",
      "T: \uc8fc\uc5b4\uc9c4 \ub370\uc774\ud130\ub4e4\uc758 \uc9d1\ud569\n",
      "\n",
      "a: \uc18d\uc131\n",
      "\n",
      "                                  {\ud0a4(short, tall), \uba38\ub9ac\uc0c9\uae54(dark, red, blond), \ub208\uc0c9\uae54(blue, brown): \ud074\ub798\uc2a4\uc885\ub958(o, a)}\n",
      "\n",
      "![IG \uc608\uc2dc](https://farm8.staticflickr.com/7622/16634141788_f520eaf04f_o.png)\n",
      "\n",
      "##chooseBestFeatureToSplit(dataSet)\n",
      "\uc804\uccb4 \uc5d4\ud2b8\ub85c\ud53c\ub97c \uad6c\ud558\uc5ec, baseEntropy\uc5d0 \uc800\uc7a5\ud574 \ub450\uace0, Feature\ub97c \ud558\ub098\uc529 \ubc14\uafb8\uba70 IG\uac12\uc744 \uad6c\ud55c\ub2e4.\n",
      "IG\uac12\uc774 \uac00\uc7a5\ud070 feature\uc758 \uc778\ub371\uc2a4\uac12\uc744 \ub9ac\ud134\ud574 \uc900\ub2e4.\n"
     ]
    },
    {
     "cell_type": "code",
     "collapsed": false,
     "input": [
      "##No_Surface information gain\uac12 \uad6c\ud558\uae30\n",
      "import trees\n",
      "\n",
      "myDat,labels=trees.createDataSet()\n",
      "\n",
      "baseEntropy = trees.calcShannonEnt(myDat)\n",
      "IG_no_surface = 0.0;\n",
      "newEntropy=0.0\n",
      "\n",
      "subData = trees.splitDataSet(myDat, 0, 0 )\n",
      "prob = len(subData)/float(len(myDat))\n",
      "newEntropy += prob * trees.calcShannonEnt(subData) \n",
      "\n",
      "subData = trees.splitDataSet(myDat, 0, 1)\n",
      "prob = len(subData)/float(len(myDat))\n",
      "\n",
      "newEntropy += prob * trees.calcShannonEnt(subData) \n",
      "IG_no_surface = baseEntropy - newEntropy\n",
      "\n",
      "IG_no_surface"
     ],
     "language": "python",
     "metadata": {},
     "outputs": [
      {
       "metadata": {},
       "output_type": "pyout",
       "prompt_number": 7,
       "text": [
        "0.4199730940219749"
       ]
      }
     ],
     "prompt_number": 7
    },
    {
     "cell_type": "code",
     "collapsed": false,
     "input": [
      "##Flippers information gain\uac12 \uad6c\ud558\uae30\n",
      "import trees\n",
      "\n",
      "myDat,labels=trees.createDataSet()\n",
      "\n",
      "baseEntropy = trees.calcShannonEnt(myDat)\n",
      "IG_no_Flippers = 0.0;\n",
      "newEntropy=0.0\n",
      "\n",
      "subData = trees.splitDataSet(myDat, 1, 0 )\n",
      "prob = len(subData)/float(len(myDat))\n",
      "newEntropy += prob * trees.calcShannonEnt(subData) \n",
      "\n",
      "subData = trees.splitDataSet(myDat, 1, 1)\n",
      "prob = len(subData)/float(len(myDat))\n",
      "\n",
      "newEntropy += prob * trees.calcShannonEnt(subData) \n",
      "IG_no_Flippers = baseEntropy - newEntropy\n",
      "\n",
      "IG_no_Flippers"
     ],
     "language": "python",
     "metadata": {},
     "outputs": [
      {
       "metadata": {},
       "output_type": "pyout",
       "prompt_number": 8,
       "text": [
        "0.17095059445466854"
       ]
      }
     ],
     "prompt_number": 8
    },
    {
     "cell_type": "code",
     "collapsed": false,
     "input": [
      "import trees\n",
      "\n",
      "def chooseBestFeatureToSplit(dataSet):\n",
      "    numFeatures = len(dataSet[0]) - 1      #the last column is used for the labels\n",
      "    baseEntropy = calcShannonEnt(dataSet)\n",
      "    bestInfoGain = 0.0; bestFeature = -1\n",
      "    for i in range(numFeatures):        #iterate over all the features\n",
      "        featList = [example[i] for example in dataSet]#create a list of all the examples of this feature\n",
      "        uniqueVals = set(featList)       #get a set of unique values\n",
      "        newEntropy = 0.0\n",
      "        for value in uniqueVals:\n",
      "            subDataSet = splitDataSet(dataSet, i, value)\n",
      "            prob = len(subDataSet)/float(len(dataSet))\n",
      "            newEntropy += prob * calcShannonEnt(subDataSet)     \n",
      "        infoGain = baseEntropy - newEntropy     #calculate the info gain; ie reduction in entropy\n",
      "        if (infoGain > bestInfoGain):       #compare this to the best gain so far\n",
      "            bestInfoGain = infoGain         #if better than current best, set to best\n",
      "            bestFeature = i\n",
      "    return bestFeature                      #returns an integer\n",
      "\n",
      "myDat,labels=trees.createDataSet()\n",
      "trees.chooseBestFeatureToSplit(myDat)"
     ],
     "language": "python",
     "metadata": {},
     "outputs": [
      {
       "metadata": {},
       "output_type": "pyout",
       "prompt_number": 9,
       "text": [
        "0"
       ]
      }
     ],
     "prompt_number": 9
    },
    {
     "cell_type": "markdown",
     "metadata": {},
     "source": [
      "##majorityCnt(classList)\n",
      " \uacfc\ubc18\uc218\ub97c \uce74\uc6b4\ud2b8\ud558\ub294 \ud568\uc218\ub85c, classList\ub97c \ub118\uae30\uba74 \uac70\uae30\uc5d0 yes\uc640 no\uc758 \uc218\ub97c \uce74\uc6b4\ud2b8 \ud558\uace0 sort\ub97c \ud558\uc5ec \uadf8\uc911 \uacfc\ubc18\uc218 \uc778\uac83\uc758 key\uac12\uc744 \ubc18\ud658 \ud574\uc900\ub2e4.\n",
      "yes\uac00 \ub354 \ub9ce\uc73c\uba74 yes\ub97c \ubc18\ud658\ud558\uace0, no\uac00 \ub354 \ub9ce\uc73c\uba74 no\ub97c \ubc18\ud658 \ud574 \uc900\ub2e4.\n",
      "\n",
      "##treateTree(dataSet, labels)\n",
      " \ud2b8\ub9ac\ub97c \uc0dd\uc131\ud558\ub294 \ud568\uc218\ub85c, IG\uac12\uc774 \uac00\uc7a5 \ud070 \uc18d\uc131\uc744 \ubd80\ubaa8\ub178\ub4dc\ub85c \ud558\uc5ec 2\uac1c\uc758 \uc790\uc2dd\ub178\ub4dc\ub97c \uc0dd\uc131\ud574 \uc900\ub2e4. \ud568\uc218\ub0b4\uc5d0\uc11c recursive call\uc744 \ud558\ub294 \uad6c\uc870\uc774\ub2e4."
     ]
    },
    {
     "cell_type": "code",
     "collapsed": false,
     "input": [
      "import trees\n",
      "\n",
      "def majorityCnt(classList):\n",
      "    classCount={}\n",
      "    for vote in classList:\n",
      "        if vote not in classCount.keys(): classCount[vote] = 0\n",
      "        classCount[vote] += 1\n",
      "    sortedClassCount = sorted(classCount.iteritems(), key=operator.itemgetter(1), reverse=True)\n",
      "    return sortedClassCount[0][0]\n",
      "\n",
      "def createTree(dataSet,labels):\n",
      "    classList = [example[-1] for example in dataSet]\n",
      "    if classList.count(classList[0]) == len(classList): \n",
      "        return classList[0]#stop splitting when all of the classes are equal\n",
      "    if len(dataSet[0]) == 1: #stop splitting when there are no more features in dataSet\n",
      "        return majorityCnt(classList)\n",
      "    bestFeat = chooseBestFeatureToSplit(dataSet)\n",
      "    bestFeatLabel = labels[bestFeat]\n",
      "    myTree = {bestFeatLabel:{}}\n",
      "    del(labels[bestFeat])\n",
      "    featValues = [example[bestFeat] for example in dataSet]\n",
      "    uniqueVals = set(featValues)\n",
      "    for value in uniqueVals:\n",
      "        subLabels = labels[:]       #copy all of labels, so trees don't mess up existing labels\n",
      "        myTree[bestFeatLabel][value] = createTree(splitDataSet(dataSet, bestFeat, value),subLabels)\n",
      "    return myTree  \n",
      "\n",
      "myDat,labels=trees.createDataSet()\n",
      "trees.createTree(myDat, labels)"
     ],
     "language": "python",
     "metadata": {},
     "outputs": [
      {
       "metadata": {},
       "output_type": "pyout",
       "prompt_number": 10,
       "text": [
        "{'no surfacing': {0: 'no', 1: {'flippers': {0: 'no', 1: 'yes'}}}}"
       ]
      }
     ],
     "prompt_number": 10
    },
    {
     "cell_type": "markdown",
     "metadata": {},
     "source": [
      "![DT \ub300\ud45c\uc608\uc81c \uadf8\ub9bc](https://farm8.staticflickr.com/7607/16634141818_f520eaf04f_o.png)"
     ]
    },
    {
     "cell_type": "markdown",
     "metadata": {},
     "source": [
      "\n",
      "\n",
      "\n",
      "\n",
      "![DT \ub2e4\ub978\uc9d1\ud569](https://farm8.staticflickr.com/7646/16635589889_bd97776e55_o.png)\n",
      "\n",
      "height (0:short, 1:tall)\n",
      "\n",
      "hair ( 0:dark, 1:red, 2:blond)\n",
      "\n",
      "eye (0:blue, 1:brown)"
     ]
    },
    {
     "cell_type": "code",
     "collapsed": false,
     "input": [
      "import trees\n",
      "\n",
      "def majorityCnt(classList):\n",
      "    classCount={}\n",
      "    for vote in classList:\n",
      "        if vote not in classCount.keys(): classCount[vote] = 0\n",
      "        classCount[vote] += 1\n",
      "    sortedClassCount = sorted(classCount.iteritems(), key=operator.itemgetter(1), reverse=True)\n",
      "    return sortedClassCount[0][0]\n",
      "\n",
      "def createTree(dataSet,labels):\n",
      "    classList = [example[-1] for example in dataSet]\n",
      "    if classList.count(classList[0]) == len(classList): \n",
      "        return classList[0]#stop splitting when all of the classes are equal\n",
      "    if len(dataSet[0]) == 1: #stop splitting when there are no more features in dataSet\n",
      "        return majorityCnt(classList)\n",
      "    bestFeat = chooseBestFeatureToSplit(dataSet)\n",
      "    bestFeatLabel = labels[bestFeat]\n",
      "    myTree = {bestFeatLabel:{}}\n",
      "    del(labels[bestFeat])\n",
      "    featValues = [example[bestFeat] for example in dataSet]\n",
      "    uniqueVals = set(featValues)\n",
      "    for value in uniqueVals:\n",
      "        subLabels = labels[:]       #copy all of labels, so trees don't mess up existing labels\n",
      "        myTree[bestFeatLabel][value] = createTree(splitDataSet(dataSet, bestFeat, value),subLabels)\n",
      "    return myTree  \n",
      "\n",
      "myDat,labels=trees.createDataSet2()\n",
      "trees.createTree(myDat, labels)\n",
      "#labels"
     ],
     "language": "python",
     "metadata": {},
     "outputs": [
      {
       "metadata": {},
       "output_type": "pyout",
       "prompt_number": 2,
       "text": [
        "{'hair': {0: 'a', 1: 'o', 2: {'eye': {0: 'o', 1: 'a'}}}}"
       ]
      }
     ],
     "prompt_number": 2
    },
    {
     "cell_type": "markdown",
     "metadata": {},
     "source": [
      "![DT \uc608\uc2dc](https://farm8.staticflickr.com/7601/16201776023_e39ae40e65_o.png)"
     ]
    },
    {
     "cell_type": "markdown",
     "metadata": {},
     "source": [
      "![DT \uc608\uc2dc2](https://farm9.staticflickr.com/8588/16820599932_e7865db994_o.png)"
     ]
    },
    {
     "cell_type": "code",
     "collapsed": false,
     "input": [
      "import trees_mining as tr\n",
      "\n",
      "def createDataSet():\n",
      "    f = open(\"test.txt\", 'r')\n",
      "    i=0\n",
      "    lines = f.readlines()\n",
      "    dataSet = []\n",
      "    for line in lines:\n",
      "        data = line.split()\n",
      "        i = i+1\n",
      "        dataSet.append(data)\n",
      "      \n",
      "    \"\"\"dataSet = [[1, 1, 'yes'],\n",
      "               [1, 1, 'yes'],\n",
      "               [1, 0, 'no'],\n",
      "               [0, 1, 'no'],\n",
      "               [0, 1, 'no']]\"\"\"\n",
      "    labels = ['Age','Has_job', 'Own_house', 'Credit_rating']\n",
      "    #change to discrete values\n",
      "    return dataSet, labels\n",
      "\n",
      "myData, labels = tr.createDataSet()\n",
      "myData, labels"
     ],
     "language": "python",
     "metadata": {},
     "outputs": [
      {
       "metadata": {},
       "output_type": "pyout",
       "prompt_number": 3,
       "text": [
        "([['young', 'false', 'false', 'fair', 'No'],\n",
        "  ['young', 'false', 'false', 'good', 'No'],\n",
        "  ['young', 'true', 'false', 'good', 'Yes'],\n",
        "  ['young', 'true', 'true', 'fair', 'Yes'],\n",
        "  ['young', 'false', 'false', 'fair', 'No'],\n",
        "  ['middle', 'false', 'false', 'fair', 'No'],\n",
        "  ['middle', 'false', 'false', 'good', 'No'],\n",
        "  ['middle', 'true', 'true', 'good', 'Yes'],\n",
        "  ['middle', 'false', 'true', 'excellent', 'Yes'],\n",
        "  ['middle', 'false', 'true', 'excellent', 'Yes'],\n",
        "  ['old', 'false', 'true', 'excellent', 'Yes'],\n",
        "  ['old', 'false', 'true', 'good', 'Yes'],\n",
        "  ['old', 'true', 'false', 'good', 'Yes'],\n",
        "  ['old', 'true', 'false', 'excellent', 'Yes'],\n",
        "  ['old', 'false', 'false', 'fair', 'No']],\n",
        " ['Age', 'Has_job', 'Own_house', 'Credit_rating'])"
       ]
      }
     ],
     "prompt_number": 3
    },
    {
     "cell_type": "code",
     "collapsed": false,
     "input": [
      "tr.createTree(myData, labels)\n"
     ],
     "language": "python",
     "metadata": {},
     "outputs": [
      {
       "metadata": {},
       "output_type": "pyout",
       "prompt_number": 10,
       "text": [
        "{'Own_house': {'false': {'Has_job': {'false': 'No', 'true': 'Yes'}},\n",
        "  'true': 'Yes'}}"
       ]
      }
     ],
     "prompt_number": 10
    }
   ],
   "metadata": {}
  }
 ]
}
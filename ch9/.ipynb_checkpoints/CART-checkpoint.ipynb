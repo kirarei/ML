{
 "metadata": {
  "name": "",
  "signature": "sha256:17648119ae674aa1fbb605626a670dfa99e8a7e479fdd37371898771cc7abe94"
 },
 "nbformat": 3,
 "nbformat_minor": 0,
 "worksheets": [
  {
   "cells": [
    {
     "cell_type": "heading",
     "level": 1,
     "metadata": {},
     "source": [
      "9\uc7a5. Tree-based regression"
     ]
    },
    {
     "cell_type": "markdown",
     "metadata": {},
     "source": [
      "Classification and Regression trees (CART)\n",
      "\n",
      "\n",
      "- The main idea behind tree methods is to recursively partition the data into smaller and smaller strata in order to improve the fit as best as possible.\n",
      "- \uc774\uc9c4\ubd84\ud560 \uad6c\ucd95\uacfc \uc5f0\uc18d\uc801\uc778 \ubcc0\ud654\ub97c \uc81c\uc5b4\ud558\ub294 \uc54c\uace0\ub9ac\uc998\uc73c\ub85c \ud2b8\ub9ac\ub97c \uc774\uc6a9\ud558\uc5ec \ubd84\ub958/\uc22b\uc790\ub97c \uc608\uce21\n",
      "\n",
      "- \ud68c\uadc0\ud2b8\ub9ac\uc640\uc758 \ucc28\uc774\uc810 : \uc774\uc0b0\uc801\uc778 \uac12\ubcf4\ub2e4\ub294 \uc218\uce58\ud615 \uac12\uc73c\ub85c \ud45c\ud604\ub41c \ub178\ub4dc\ub97c \uac00\uc9d0\n",
      "\n",
      "\n",
      "\n",
      "\n",
      "- \uc5f0\uc18d\uc801\uc778 \uac12\uc5d0\uc11c\uc758 \ub178\ub4dc\uc758 \ubb34\uc9c8\uc11c(disorder)\ub97c \uce21\uc815\ud560 \ub54c, \ud3b8\ucc28 \uc774\uc6a9\n",
      "- \ucc28\uc774\uc758 \ubcc0\ud654\ub7c9\uc740 \ud3c9\uade0\uc758 \uc81c\uacf1\uc758 \uc624\ub958\uac12\uc744 \uc774\uc6a9\n",
      "- \uc804\uccb4 \uc81c\uacf1 \uc624\ub958= \ub370\uc774\ud130 \uc9d1\ud569\uc758 \ubcc0\ud654\ub7c9*\uc9d1\ud569\ub0b4\uc758 \uc6d0\uc18c\uc758 \uac2f\uc218\n"
     ]
    },
    {
     "cell_type": "heading",
     "level": 5,
     "metadata": {},
     "source": [
      "Pseudo-code for CreateTree() \n",
      "\n",
      "Find the best feature to split on: // \ub370\uc774\ud130\uc9d1\ud569\uc744 \uac00\uc7a5 \uc798 \ubd84\ud560\ud560 \uc218 \uc788\ub294 \uc18d\uc131\uc758 \uac12\uc744 \ucc3e\uc74c\n",
      "If we can\u2019t split the data, this node becomes a leaf node // \ub370\uc774\ud130\ub97c \ubd84\ud560\ud560 \uc218 \uc5c6\uc73c\uba74, \uc774 \ub178\ub4dc\ub294 \ub2e8\ub9d0 \ub178\ub4dc\uac00 \ub428\n",
      "Make a binary split of the data  // \ub370\uc774\ud130\uc5d0 \ub300\ud574 \uc774\uc9c4\ubd84\ud560 \ub9cc\ub4e6\n",
      "Call createTree() on the right split of the data  // \ub370\uc774\ud130\ub97c \uc624\ub978\ucabd \ubd84\ud560\uc5d0\uc11c createTree()\ud638\ucd9c\n",
      "Call createTree() on the left split of the data //  \ub370\uc774\ud130\ub97c \uc67c\ucabd \ubd84\ud560\uc5d0\uc11c createTree()\ud638\ucd9c\n"
     ]
    },
    {
     "cell_type": "markdown",
     "metadata": {},
     "source": [
      "1. \ub370\uc774\ud130 \uc9d1\ud569 \uc900\ube44\n",
      "   - \uac01 \uceec\ub7fc\uc774 \uc18d\uc131, \ub9c8\uc9c0\ub9c9 \uceec\ub7fc\uc740 \uac01 \ub370\uc774\ud130\uc758 \uacb0\uacfc \uac12\n",
      "   \n",
      "2. \ub370\uc774\ud130\uc9d1\ud569\uc744 \uac00\uc7a5 \uc798 \ubd84\ud560\ud558\ub294 \uc18d\uc131\uc758 \uac12\uc744 \ucc3e\uc74c    \n",
      "   - \ub370\uc774\ud130 \uc9d1\ud569\uc758 \uacb0\uacfc \uac12\uc774 \ubaa8\ub450 \uac19\uc73c\uba74, \ubd84\ud560\ud558\ub294(\uc18d\uc131,\uae30\uc900\uac12) \uc5c6\uc74c\n",
      "\n",
      "3. (\uc18d\uc131,\uae30\uc900\uac12)\uc774 \uc874\uc7ac\ud558\uba74, \uc18d\uc131,\uae30\uc900\uac12\uc744 \uae30\uc900\uc73c\ub85c \uc774\uc9c4 \ubd84\ud560\n",
      "   - \ub178\ub4dc \uc0dd\uc131 : \n",
      "       // \uc18d\uc131\uc758 \uac12\uc774 \uae30\uc900\uac12\ubcf4\ub2e4 \ud070 \ub370\uc774\ud130\ub97c \uae30\uc900\uc73c\ub85c \uc67c\ucabd \uc790\uc2dd \ub178\ub4dc \uc0dd\uc131(2\ubc88\uc7ac\uadc0\uc2e4\ud589)\n",
      "       // \uc18d\uc131\uc758 \uac12\uc774 \uae30\uc900\uac12\ubcf4\ub2e4 \uc791\uc740 \ub370\uc774\ud130\ub97c \uae30\uc900\uc73c\ub85c \uc624\ub978\ucabd \uc790\uc2dd \ub178\ub4dc \uc0dd\uc131(2\ubc88\uc7ac\uadc0\uc2e4\ud589)\n",
      "   - \ub178\ub4dc \ub9ac\ud134\n",
      "       "
     ]
    },
    {
     "cell_type": "markdown",
     "metadata": {},
     "source": [
      "<img src=\"image2.png\">"
     ]
    },
    {
     "cell_type": "code",
     "collapsed": false,
     "input": [
      "from numpy import *\n",
      "\n",
      "def loadDataSet(fileName):      #general function to parse tab -delimited floats\n",
      "    dataMat = []                #assume last column is target value\n",
      "    fr = open(fileName)\n",
      "    for line in fr.readlines():\n",
      "        curLine = line.strip().split('\\t')\n",
      "        fltLine = map(float,curLine) #map all elements to float()\n",
      "        dataMat.append(fltLine) #.append ->dataMat\uc5d0 fltLine \ub0b4\uc6a9\ucd94\uac00\n",
      "    return dataMat\n",
      "\n",
      "def binSplitDataSet(dataSet, feature, value):\n",
      "    mat0 = dataSet[nonzero(dataSet[:,feature] > value)[0],:][0]\n",
      "    mat1 = dataSet[nonzero(dataSet[:,feature] <= value)[0],:][0]\n",
      "    return mat0,mat1\n",
      "\n",
      "def regLeaf(dataSet):#returns the value used for each leaf\n",
      "    return mean(dataSet[:,-1])\n",
      "\n",
      "def regErr(dataSet):\n",
      "    return var(dataSet[:,-1]) * shape(dataSet)[0]\n",
      "\n",
      "def createTree(dataSet, leafType=regLeaf, errType=regErr, ops=(1,4)):#assume dataSet is NumPy Mat so we can array filtering\n",
      "    feat, val = chooseBestSplit(dataSet, leafType, errType, ops)#choose the best split\n",
      "    if feat == None: return val #if the splitting hit a stop condition return val\n",
      "    retTree = {}\n",
      "    retTree['spInd'] = feat\n",
      "    retTree['spVal'] = val\n",
      "    lSet, rSet = binSplitDataSet(dataSet, feat, val)\n",
      "    retTree['left'] = createTree(lSet, leafType, errType, ops)\n",
      "    retTree['right'] = createTree(rSet, leafType, errType, ops)\n",
      "    return retTree  "
     ],
     "language": "python",
     "metadata": {},
     "outputs": [],
     "prompt_number": 6
    },
    {
     "cell_type": "code",
     "collapsed": false,
     "input": [
      "#import retTree\n",
      "testMat =mat(eye(4))\n",
      "testMat\n"
     ],
     "language": "python",
     "metadata": {},
     "outputs": [
      {
       "metadata": {},
       "output_type": "pyout",
       "prompt_number": 132,
       "text": [
        "matrix([[ 1.,  0.,  0.,  0.],\n",
        "        [ 0.,  1.,  0.,  0.],\n",
        "        [ 0.,  0.,  1.,  0.],\n",
        "        [ 0.,  0.,  0.,  1.]])"
       ]
      }
     ],
     "prompt_number": 132
    },
    {
     "cell_type": "code",
     "collapsed": false,
     "input": [
      "# mat0, mat1 =regTrees.binSplitDataSet(testMat, 1, 0.5)\n",
      "mat0, mat1 = binSplitDataSet(testMat,1, 0.5)\n",
      "mat0\n"
     ],
     "language": "python",
     "metadata": {},
     "outputs": [
      {
       "metadata": {},
       "output_type": "pyout",
       "prompt_number": 136,
       "text": [
        "matrix([[ 0.,  1.,  0.,  0.]])"
       ]
      }
     ],
     "prompt_number": 136
    },
    {
     "cell_type": "markdown",
     "metadata": {},
     "source": [
      "mat1\n"
     ]
    },
    {
     "cell_type": "markdown",
     "metadata": {},
     "source": [
      "CART - \ubd84\ud560\n",
      "\n",
      "- \ud3c9\uade0\uc81c\uacf1\uc624\ub958 :\uacb0\uacfc\uac12\uc758 \ud3b8\ucc28\uc758 \uc81c\uacf1 \ud569\n",
      "- \uc5b4\ub5a4 \uc18d\uc131\uc758 \ud2b9\uc815 \uac12\uc744 \uae30\uc900\uc73c\ub85c \ub370\uc774\ud130\ub97c \uc774\ubd84\ud560 \ud560\ub54c, \uac01 \ubd84\ud560\ub41c \ub370\uc774\ud130\uc758 \ud3c9\uade0\uc81c\uacf1\uc624\ub958\uc758 \ud569\uc774 \uac00\uc7a5 \uc791\uc740(\uc18d\uc131, \uac12)\uc744 \ubd84\ud560\uae30\uc900\uc73c\ub85c \uc815\uc758\n",
      "\n",
      "<img src=\"image.png\">"
     ]
    },
    {
     "cell_type": "markdown",
     "metadata": {},
     "source": [
      "For every feature: //\ubaa8\ub4e0\uc18d\uc131\ubc18\ubcf5\n",
      "For every unique value: //\uc911\ubcf5\ub418\uc9c0 \uc54a\uc740 \ubaa8\ub4e0 \uac12 \ubc18\ubcf5\n",
      "Split the dataset it two // \ub370\uc774\ud130 \uc9d1\ud569\uc744 \ub458\ub85c \ubd84\ud560\n",
      "Measure the error of the two splits // \ub458\ub85c \ubd84\ud560\ud55c\uac83\uc5d0 \ub300\ud55c \uc624\ub958 \uce21\uc815\n",
      "If the error is less than bestError \u279e set bestSplit to this split and update bestError //\uce21\uc815\ub41c \uc624\ub958\uac00 bestError\ubcf4\ub2e4 \uc791\uc744 \uacbd\uc6b0, \u279e  \ubd84\ud560\uc744 bestSplit\uc73c\ub85c \uc124\uc815\ud558\uace0 bestError \uac31\uc2e0\n",
      "Return bestSplit feature and threshold //bestSplit\uc758 \uc18d\uc131\uacfc \uc784\uacc4 \uac12\uc744 \ubc18\ud658"
     ]
    },
    {
     "cell_type": "markdown",
     "metadata": {},
     "source": []
    },
    {
     "cell_type": "code",
     "collapsed": false,
     "input": [
      "def regLeaf(dataSet):#returns the value used for each leaf\n",
      "    return mean(dataSet[:,-1])\n",
      "\n",
      "def regErr(dataSet):\n",
      "    return var(dataSet[:,-1]) * shape(dataSet)[0]\n",
      "\n",
      "def chooseBestSplit(dataSet, leafType=regLeaf, errType=regErr, ops=(1,4)):\n",
      "    tolS = ops[0]; tolN = ops[1]\n",
      "    #if all the target variables are the same value: quit and return value\n",
      "    if len(set(dataSet[:,-1].T.tolist()[0])) == 1: #exit cond 1\n",
      "        return None, leafType(dataSet)\n",
      "    m,n = shape(dataSet)\n",
      "    #the choice of the best feature is driven by Reduction in RSS error from mean\n",
      "    S = errType(dataSet)\n",
      "    bestS = inf; bestIndex = 0; bestValue = 0\n",
      "    for featIndex in range(n-1):\n",
      "        for splitVal in set(dataSet[:,featIndex]):\n",
      "            mat0, mat1 = binSplitDataSet(dataSet, featIndex, splitVal)\n",
      "            if (shape(mat0)[0] < tolN) or (shape(mat1)[0] < tolN): continue\n",
      "            newS = errType(mat0) + errType(mat1)\n",
      "            if newS < bestS: \n",
      "                bestIndex = featIndex\n",
      "                bestValue = splitVal\n",
      "                bestS = newS\n",
      "    #if the decrease (S-bestS) is less than a threshold don't do the split\n",
      "    if (S - bestS) < tolS: \n",
      "        return None, leafType(dataSet) #exit cond 2\n",
      "    mat0, mat1 = binSplitDataSet(dataSet, bestIndex, bestValue)\n",
      "    if (shape(mat0)[0] < tolN) or (shape(mat1)[0] < tolN):  #exit cond 3\n",
      "        return None, leafType(dataSet)\n",
      "    return bestIndex,bestValue#returns the best feature to split on\n",
      "                              #and the value used for that split"
     ],
     "language": "python",
     "metadata": {},
     "outputs": [],
     "prompt_number": 28
    },
    {
     "cell_type": "code",
     "collapsed": false,
     "input": [
      "\n",
      "myDat= loadDataSet('ex00.txt')"
     ],
     "language": "python",
     "metadata": {},
     "outputs": [],
     "prompt_number": 41
    },
    {
     "cell_type": "code",
     "collapsed": false,
     "input": [
      "myMat=mat(myDat)"
     ],
     "language": "python",
     "metadata": {},
     "outputs": [],
     "prompt_number": 42
    },
    {
     "cell_type": "code",
     "collapsed": false,
     "input": [
      "createTree(myMat)"
     ],
     "language": "python",
     "metadata": {},
     "outputs": [
      {
       "metadata": {},
       "output_type": "pyout",
       "prompt_number": 43,
       "text": [
        "{'left': 1.018096767241379,\n",
        " 'right': -0.044650285714285733,\n",
        " 'spInd': 0,\n",
        " 'spVal': matrix([[ 0.48813]])}"
       ]
      }
     ],
     "prompt_number": 43
    },
    {
     "cell_type": "code",
     "collapsed": false,
     "input": [
      "myDat1=loadDataSet('ex0.txt')"
     ],
     "language": "python",
     "metadata": {},
     "outputs": [],
     "prompt_number": 45
    },
    {
     "cell_type": "code",
     "collapsed": false,
     "input": [
      "myMat1=mat(myDat1)"
     ],
     "language": "python",
     "metadata": {},
     "outputs": [],
     "prompt_number": 50
    },
    {
     "cell_type": "code",
     "collapsed": false,
     "input": [
      "createTree(myMat1)"
     ],
     "language": "python",
     "metadata": {},
     "outputs": [
      {
       "metadata": {},
       "output_type": "pyout",
       "prompt_number": 51,
       "text": [
        "{'left': {'left': {'left': 3.9871632000000004,\n",
        "   'right': 2.9836209534883724,\n",
        "   'spInd': 1,\n",
        "   'spVal': matrix([[ 0.797583]])},\n",
        "  'right': 1.9800350714285717,\n",
        "  'spInd': 1,\n",
        "  'spVal': matrix([[ 0.582002]])},\n",
        " 'right': {'left': 1.0289583666666664,\n",
        "  'right': -0.023838155555555553,\n",
        "  'spInd': 1,\n",
        "  'spVal': matrix([[ 0.197834]])},\n",
        " 'spInd': 1,\n",
        " 'spVal': matrix([[ 0.39435]])}"
       ]
      }
     ],
     "prompt_number": 51
    },
    {
     "cell_type": "code",
     "collapsed": false,
     "input": [
      "createTree(myMat,ops=(0.1))"
     ],
     "language": "python",
     "metadata": {},
     "outputs": [
      {
       "ename": "TypeError",
       "evalue": "'float' object has no attribute '__getitem__'",
       "output_type": "pyerr",
       "traceback": [
        "\u001b[1;31m---------------------------------------------------------------------------\u001b[0m\n\u001b[1;31mTypeError\u001b[0m                                 Traceback (most recent call last)",
        "\u001b[1;32m<ipython-input-53-7a4439d23a46>\u001b[0m in \u001b[0;36m<module>\u001b[1;34m()\u001b[0m\n\u001b[1;32m----> 1\u001b[1;33m \u001b[0mcreateTree\u001b[0m\u001b[1;33m(\u001b[0m\u001b[0mmyMat\u001b[0m\u001b[1;33m,\u001b[0m\u001b[0mops\u001b[0m\u001b[1;33m=\u001b[0m\u001b[1;33m(\u001b[0m\u001b[1;36m0.1\u001b[0m\u001b[1;33m)\u001b[0m\u001b[1;33m)\u001b[0m\u001b[1;33m\u001b[0m\u001b[0m\n\u001b[0m",
        "\u001b[1;32m<ipython-input-6-5af8ccc8e808>\u001b[0m in \u001b[0;36mcreateTree\u001b[1;34m(dataSet, leafType, errType, ops)\u001b[0m\n\u001b[0;32m     22\u001b[0m \u001b[1;33m\u001b[0m\u001b[0m\n\u001b[0;32m     23\u001b[0m \u001b[1;32mdef\u001b[0m \u001b[0mcreateTree\u001b[0m\u001b[1;33m(\u001b[0m\u001b[0mdataSet\u001b[0m\u001b[1;33m,\u001b[0m \u001b[0mleafType\u001b[0m\u001b[1;33m=\u001b[0m\u001b[0mregLeaf\u001b[0m\u001b[1;33m,\u001b[0m \u001b[0merrType\u001b[0m\u001b[1;33m=\u001b[0m\u001b[0mregErr\u001b[0m\u001b[1;33m,\u001b[0m \u001b[0mops\u001b[0m\u001b[1;33m=\u001b[0m\u001b[1;33m(\u001b[0m\u001b[1;36m1\u001b[0m\u001b[1;33m,\u001b[0m\u001b[1;36m4\u001b[0m\u001b[1;33m)\u001b[0m\u001b[1;33m)\u001b[0m\u001b[1;33m:\u001b[0m\u001b[1;31m#assume dataSet is NumPy Mat so we can array filtering\u001b[0m\u001b[1;33m\u001b[0m\u001b[0m\n\u001b[1;32m---> 24\u001b[1;33m     \u001b[0mfeat\u001b[0m\u001b[1;33m,\u001b[0m \u001b[0mval\u001b[0m \u001b[1;33m=\u001b[0m \u001b[0mchooseBestSplit\u001b[0m\u001b[1;33m(\u001b[0m\u001b[0mdataSet\u001b[0m\u001b[1;33m,\u001b[0m \u001b[0mleafType\u001b[0m\u001b[1;33m,\u001b[0m \u001b[0merrType\u001b[0m\u001b[1;33m,\u001b[0m \u001b[0mops\u001b[0m\u001b[1;33m)\u001b[0m\u001b[1;31m#choose the best split\u001b[0m\u001b[1;33m\u001b[0m\u001b[0m\n\u001b[0m\u001b[0;32m     25\u001b[0m     \u001b[1;32mif\u001b[0m \u001b[0mfeat\u001b[0m \u001b[1;33m==\u001b[0m \u001b[0mNone\u001b[0m\u001b[1;33m:\u001b[0m \u001b[1;32mreturn\u001b[0m \u001b[0mval\u001b[0m \u001b[1;31m#if the splitting hit a stop condition return val\u001b[0m\u001b[1;33m\u001b[0m\u001b[0m\n\u001b[0;32m     26\u001b[0m     \u001b[0mretTree\u001b[0m \u001b[1;33m=\u001b[0m \u001b[1;33m{\u001b[0m\u001b[1;33m}\u001b[0m\u001b[1;33m\u001b[0m\u001b[0m\n",
        "\u001b[1;32m<ipython-input-28-15e94a8e396e>\u001b[0m in \u001b[0;36mchooseBestSplit\u001b[1;34m(dataSet, leafType, errType, ops)\u001b[0m\n\u001b[0;32m      6\u001b[0m \u001b[1;33m\u001b[0m\u001b[0m\n\u001b[0;32m      7\u001b[0m \u001b[1;32mdef\u001b[0m \u001b[0mchooseBestSplit\u001b[0m\u001b[1;33m(\u001b[0m\u001b[0mdataSet\u001b[0m\u001b[1;33m,\u001b[0m \u001b[0mleafType\u001b[0m\u001b[1;33m=\u001b[0m\u001b[0mregLeaf\u001b[0m\u001b[1;33m,\u001b[0m \u001b[0merrType\u001b[0m\u001b[1;33m=\u001b[0m\u001b[0mregErr\u001b[0m\u001b[1;33m,\u001b[0m \u001b[0mops\u001b[0m\u001b[1;33m=\u001b[0m\u001b[1;33m(\u001b[0m\u001b[1;36m1\u001b[0m\u001b[1;33m,\u001b[0m\u001b[1;36m4\u001b[0m\u001b[1;33m)\u001b[0m\u001b[1;33m)\u001b[0m\u001b[1;33m:\u001b[0m\u001b[1;33m\u001b[0m\u001b[0m\n\u001b[1;32m----> 8\u001b[1;33m     \u001b[0mtolS\u001b[0m \u001b[1;33m=\u001b[0m \u001b[0mops\u001b[0m\u001b[1;33m[\u001b[0m\u001b[1;36m0\u001b[0m\u001b[1;33m]\u001b[0m\u001b[1;33m;\u001b[0m \u001b[0mtolN\u001b[0m \u001b[1;33m=\u001b[0m \u001b[0mops\u001b[0m\u001b[1;33m[\u001b[0m\u001b[1;36m1\u001b[0m\u001b[1;33m]\u001b[0m\u001b[1;33m\u001b[0m\u001b[0m\n\u001b[0m\u001b[0;32m      9\u001b[0m     \u001b[1;31m#if all the target variables are the same value: quit and return value\u001b[0m\u001b[1;33m\u001b[0m\u001b[1;33m\u001b[0m\u001b[0m\n\u001b[0;32m     10\u001b[0m     \u001b[1;32mif\u001b[0m \u001b[0mlen\u001b[0m\u001b[1;33m(\u001b[0m\u001b[0mset\u001b[0m\u001b[1;33m(\u001b[0m\u001b[0mdataSet\u001b[0m\u001b[1;33m[\u001b[0m\u001b[1;33m:\u001b[0m\u001b[1;33m,\u001b[0m\u001b[1;33m-\u001b[0m\u001b[1;36m1\u001b[0m\u001b[1;33m]\u001b[0m\u001b[1;33m.\u001b[0m\u001b[0mT\u001b[0m\u001b[1;33m.\u001b[0m\u001b[0mtolist\u001b[0m\u001b[1;33m(\u001b[0m\u001b[1;33m)\u001b[0m\u001b[1;33m[\u001b[0m\u001b[1;36m0\u001b[0m\u001b[1;33m]\u001b[0m\u001b[1;33m)\u001b[0m\u001b[1;33m)\u001b[0m \u001b[1;33m==\u001b[0m \u001b[1;36m1\u001b[0m\u001b[1;33m:\u001b[0m \u001b[1;31m#exit cond 1\u001b[0m\u001b[1;33m\u001b[0m\u001b[0m\n",
        "\u001b[1;31mTypeError\u001b[0m: 'float' object has no attribute '__getitem__'"
       ]
      }
     ],
     "prompt_number": 53
    },
    {
     "cell_type": "heading",
     "level": 2,
     "metadata": {},
     "source": [
      "9.4 \uac00\uc9c0\uce58\uae30 "
     ]
    },
    {
     "cell_type": "heading",
     "level": 3,
     "metadata": {},
     "source": [
      "9.4.1.\uc0ac\uc804 \uac00\uc9c0\uce58\uae30\n",
      "\n",
      "\n",
      "- \ubd84\ud560\ub418\ub294 \ub370\uc774\ud130 \ud06c\uae30\ub294 \ucd5c\uc18c N\uac1c \uc774\uc0c1\n",
      "- \ubd84\ud560 \uc804 \ud3c9\uade0\uc81c\uacf1\uc624\ub958-\ubd84\ud560 \ud6c4 \ud3c9\uade0\uc81c\uacf1\uc624\ub958 >= \ucd5c\uc18c\uac12\n",
      "\n",
      "<img src=\"image3.png\">\n"
     ]
    },
    {
     "cell_type": "code",
     "collapsed": false,
     "input": [
      "myDat2=loadDataSet('ex2.txt')"
     ],
     "language": "python",
     "metadata": {},
     "outputs": [],
     "prompt_number": 55
    },
    {
     "cell_type": "code",
     "collapsed": false,
     "input": [
      "myMat2=mat(myDat2)"
     ],
     "language": "python",
     "metadata": {},
     "outputs": [],
     "prompt_number": 56
    },
    {
     "cell_type": "code",
     "collapsed": false,
     "input": [
      "createTree(myMat2)"
     ],
     "language": "python",
     "metadata": {},
     "outputs": [
      {
       "metadata": {},
       "output_type": "pyout",
       "prompt_number": 57,
       "text": [
        "{'left': {'left': {'left': {'left': 105.24862350000001,\n",
        "    'right': 112.42895575000001,\n",
        "    'spInd': 0,\n",
        "    'spVal': matrix([[ 0.958512]])},\n",
        "   'right': {'left': {'left': {'left': {'left': 87.310387500000004,\n",
        "       'right': {'left': {'left': 96.452866999999998,\n",
        "         'right': {'left': 104.82540899999999,\n",
        "          'right': {'left': 95.181792999999999,\n",
        "           'right': 102.25234449999999,\n",
        "           'spInd': 0,\n",
        "           'spVal': matrix([[ 0.872883]])},\n",
        "          'spInd': 0,\n",
        "          'spVal': matrix([[ 0.892999]])},\n",
        "         'spInd': 0,\n",
        "         'spVal': matrix([[ 0.910975]])},\n",
        "        'right': 95.275843166666661,\n",
        "        'spInd': 0,\n",
        "        'spVal': matrix([[ 0.85497]])},\n",
        "       'spInd': 0,\n",
        "       'spVal': matrix([[ 0.944221]])},\n",
        "      'right': {'left': 81.110151999999999,\n",
        "       'right': 88.784498800000009,\n",
        "       'spInd': 0,\n",
        "       'spVal': matrix([[ 0.811602]])},\n",
        "      'spInd': 0,\n",
        "      'spVal': matrix([[ 0.833026]])},\n",
        "     'right': 102.35780185714285,\n",
        "     'spInd': 0,\n",
        "     'spVal': matrix([[ 0.790312]])},\n",
        "    'right': 78.085643250000004,\n",
        "    'spInd': 0,\n",
        "    'spVal': matrix([[ 0.759504]])},\n",
        "   'spInd': 0,\n",
        "   'spVal': matrix([[ 0.952833]])},\n",
        "  'right': {'left': {'left': {'left': 114.554706,\n",
        "     'right': {'left': 104.82495374999999,\n",
        "      'right': 108.92921799999999,\n",
        "      'spInd': 0,\n",
        "      'spVal': matrix([[ 0.698472]])},\n",
        "     'spInd': 0,\n",
        "     'spVal': matrix([[ 0.706961]])},\n",
        "    'right': 114.15162428571431,\n",
        "    'spInd': 0,\n",
        "    'spVal': matrix([[ 0.666452]])},\n",
        "   'right': {'left': 93.673449714285724,\n",
        "    'right': {'left': 123.2101316,\n",
        "     'right': {'left': 97.200180249999988,\n",
        "      'right': {'left': {'left': 109.38961049999999,\n",
        "        'right': 110.979946,\n",
        "        'spInd': 0,\n",
        "        'spVal': matrix([[ 0.543843]])},\n",
        "       'right': 101.73699325000001,\n",
        "       'spInd': 0,\n",
        "       'spVal': matrix([[ 0.51915]])},\n",
        "      'spInd': 0,\n",
        "      'spVal': matrix([[ 0.553797]])},\n",
        "     'spInd': 0,\n",
        "     'spVal': matrix([[ 0.582311]])},\n",
        "    'spInd': 0,\n",
        "    'spVal': matrix([[ 0.613004]])},\n",
        "   'spInd': 0,\n",
        "   'spVal': matrix([[ 0.640515]])},\n",
        "  'spInd': 0,\n",
        "  'spVal': matrix([[ 0.729397]])},\n",
        " 'right': {'left': {'left': 12.50675925,\n",
        "   'right': 3.4331330000000007,\n",
        "   'spInd': 0,\n",
        "   'spVal': matrix([[ 0.467383]])},\n",
        "  'right': {'left': {'left': {'left': -12.558604833333334,\n",
        "     'right': {'left': 14.38417875,\n",
        "      'right': {'left': -0.89235549999999952,\n",
        "       'right': 3.6584772500000016,\n",
        "       'spInd': 0,\n",
        "       'spVal': matrix([[ 0.385021]])},\n",
        "      'spInd': 0,\n",
        "      'spVal': matrix([[ 0.412516]])},\n",
        "     'spInd': 0,\n",
        "     'spVal': matrix([[ 0.437652]])},\n",
        "    'right': {'left': {'left': -15.085111749999999,\n",
        "      'right': -22.693879600000002,\n",
        "      'spInd': 0,\n",
        "      'spVal': matrix([[ 0.350725]])},\n",
        "     'right': {'left': 15.059290750000001,\n",
        "      'right': {'left': -19.994155200000002,\n",
        "       'right': {'left': {'left': {'left': {'left': {'left': 0.40377471428571476,\n",
        "            'right': -13.070501,\n",
        "            'spInd': 0,\n",
        "            'spVal': matrix([[ 0.25807]])},\n",
        "           'right': 6.770429,\n",
        "           'spInd': 0,\n",
        "           'spVal': matrix([[ 0.228473]])},\n",
        "          'right': -11.822278500000001,\n",
        "          'spInd': 0,\n",
        "          'spVal': matrix([[ 0.217214]])},\n",
        "         'right': 3.4496025000000001,\n",
        "         'spInd': 0,\n",
        "         'spVal': matrix([[ 0.202161]])},\n",
        "        'right': {'left': -12.107972500000001,\n",
        "         'right': -6.2479000000000013,\n",
        "         'spInd': 0,\n",
        "         'spVal': matrix([[ 0.156067]])},\n",
        "        'spInd': 0,\n",
        "        'spVal': matrix([[ 0.166765]])},\n",
        "       'spInd': 0,\n",
        "       'spVal': matrix([[ 0.297107]])},\n",
        "      'spInd': 0,\n",
        "      'spVal': matrix([[ 0.324274]])},\n",
        "     'spInd': 0,\n",
        "     'spVal': matrix([[ 0.335182]])},\n",
        "    'spInd': 0,\n",
        "    'spVal': matrix([[ 0.373501]])},\n",
        "   'right': {'left': 6.5098432857142843,\n",
        "    'right': {'left': -2.5443927142857148,\n",
        "     'right': 4.0916259999999998,\n",
        "     'spInd': 0,\n",
        "     'spVal': matrix([[ 0.044737]])},\n",
        "    'spInd': 0,\n",
        "    'spVal': matrix([[ 0.084661]])},\n",
        "   'spInd': 0,\n",
        "   'spVal': matrix([[ 0.126833]])},\n",
        "  'spInd': 0,\n",
        "  'spVal': matrix([[ 0.457563]])},\n",
        " 'spInd': 0,\n",
        " 'spVal': matrix([[ 0.499171]])}"
       ]
      }
     ],
     "prompt_number": 57
    },
    {
     "cell_type": "code",
     "collapsed": false,
     "input": [
      "createTree(myMat2,ops=(10000,4))"
     ],
     "language": "python",
     "metadata": {},
     "outputs": [
      {
       "metadata": {},
       "output_type": "pyout",
       "prompt_number": 58,
       "text": [
        "{'left': 101.35815937735855,\n",
        " 'right': -2.6377193297872341,\n",
        " 'spInd': 0,\n",
        " 'spVal': matrix([[ 0.499171]])}"
       ]
      }
     ],
     "prompt_number": 58
    },
    {
     "cell_type": "heading",
     "level": 3,
     "metadata": {},
     "source": [
      "9.4.2. \uc0ac\ud6c4 \uac00\uc9c0\uce58\uae30"
     ]
    },
    {
     "cell_type": "markdown",
     "metadata": {},
     "source": [
      "Split the test data for the given tree: //\uc8fc\uc5b4\uc9c4 \ud2b8\ub9ac\uc5d0 \uac80\uc0ac\ud560 \uc9d1\ud569\uc744 \ubd84\ud560\n",
      "\n",
      "If the either split is a tree: call prune on that split //\uac01\uac01\uc758 \ubd84\ud560\uc774 \ud558\ub098\uc758 \ud2b8\ub9ac\uc774\uba74, \uc774\ubc88\ubd84\ud560\uc5d0\uc11c \uac00\uc9c0\uce58\uae30 \ud638\ucd9c\n",
      "\n",
      "Calculate the error associated with merging two leaf nodes // \ubcd1\ud569\ud55c \ub450 \uac1c\uc758 \ub2e8\ub9d0 \ub178\ub4dc\uc5d0 \ub300\ud55c \uc624\ub958 \uacc4\uc0b0\n",
      "\n",
      "Calculate the error without merging //\ubcd1\ud569\uc744 \ud558\uc9c0\uc54a\uace0 \uc624\ub958\ub97c \uacc4\uc0b0\n",
      "\n",
      "If merging results in lower error then merge the leaf nodes //\ubcd1\ud569 \uacb0\uacfc\uac00 \ub354 \ub0ae\uc744 \uc624\ub958 \uac00\uc9c8\uc2dc, \ub2e8\ub9d0\ub178\ub4dc \uacb0\ud569\n",
      "\n",
      "\n",
      "- \ud2b8\ub9ac\ub97c \ub9cc\ub4e0 \ud6c4\uc5d0, \ub2e8\ub9d0\uc5d0\uc11c\ubd80\ud130 \uac00\uc9c0\uce58\uae30 \uc2e4\ud589(\uc989 \ub450 \ub2e8\ub9d0\uc744 \ud569\uce58\ub294 \ubc29\uc2dd\uc73c\ub85c \uc9c4\ud589\n",
      "- \ubd84\ud560 \uc804 \ud3c9\uade0\uc81c\uacf1\uc624\ub958- \ubd84\ud560 \ud6c4 \ud3c9\uade0\uc81c\uacf1\uc624\ub958>= \ucd5c\uc18c\uac12"
     ]
    },
    {
     "cell_type": "code",
     "collapsed": false,
     "input": [
      "def isTree(obj):\n",
      "    return (type(obj).__name__=='dict')\n",
      "\n",
      "def getMean(tree):\n",
      "    if isTree(tree['right']): tree['right'] = getMean(tree['right'])\n",
      "    if isTree(tree['left']): tree['left'] = getMean(tree['left'])\n",
      "    return (tree['left']+tree['right'])/2.0\n",
      "    \n",
      "def prune(tree, testData):\n",
      "    if shape(testData)[0] == 0: return getMean(tree) #if we have no test data collapse the tree\n",
      "    if (isTree(tree['right']) or isTree(tree['left'])):#if the branches are not trees try to prune them\n",
      "        lSet, rSet = binSplitDataSet(testData, tree['spInd'], tree['spVal'])\n",
      "    if isTree(tree['left']): tree['left'] = prune(tree['left'], lSet)\n",
      "    if isTree(tree['right']): tree['right'] =  prune(tree['right'], rSet)\n",
      "    #if they are now both leafs, see if we can merge them\n",
      "    if not isTree(tree['left']) and not isTree(tree['right']):\n",
      "        lSet, rSet = binSplitDataSet(testData, tree['spInd'], tree['spVal'])\n",
      "        errorNoMerge = sum(power(lSet[:,-1] - tree['left'],2)) +\\\n",
      "            sum(power(rSet[:,-1] - tree['right'],2))\n",
      "        treeMean = (tree['left']+tree['right'])/2.0\n",
      "        errorMerge = sum(power(testData[:,-1] - treeMean,2))\n",
      "        if errorMerge < errorNoMerge: \n",
      "            print \"merging\"\n",
      "            return treeMean\n",
      "        else: return tree\n",
      "    else: return tree"
     ],
     "language": "python",
     "metadata": {},
     "outputs": [],
     "prompt_number": 59
    },
    {
     "cell_type": "code",
     "collapsed": false,
     "input": [
      "myTree=createTree(myMat2,ops=(0,1))"
     ],
     "language": "python",
     "metadata": {},
     "outputs": [],
     "prompt_number": 60
    },
    {
     "cell_type": "code",
     "collapsed": false,
     "input": [
      "myDatTest=loadDataSet('ex2test.txt')"
     ],
     "language": "python",
     "metadata": {},
     "outputs": [],
     "prompt_number": 62
    },
    {
     "cell_type": "code",
     "collapsed": false,
     "input": [
      "myMat2Test=mat(myDatTest)"
     ],
     "language": "python",
     "metadata": {},
     "outputs": [],
     "prompt_number": 63
    },
    {
     "cell_type": "code",
     "collapsed": false,
     "input": [
      "prune(myTree,myMat2Test)"
     ],
     "language": "python",
     "metadata": {},
     "outputs": [
      {
       "output_type": "stream",
       "stream": "stdout",
       "text": [
        "merging\n",
        "merging\n",
        "merging\n",
        "merging\n",
        "merging\n",
        "merging\n",
        "merging\n",
        "merging\n",
        "merging\n",
        "merging\n",
        "merging\n",
        "merging\n",
        "merging\n",
        "merging\n",
        "merging\n",
        "merging\n",
        "merging\n",
        "merging\n",
        "merging\n",
        "merging\n",
        "merging\n",
        "merging\n",
        "merging\n",
        "merging\n",
        "merging\n",
        "merging\n",
        "merging\n",
        "merging\n",
        "merging\n",
        "merging\n",
        "merging\n",
        "merging\n",
        "merging\n",
        "merging\n",
        "merging\n",
        "merging\n",
        "merging\n",
        "merging\n",
        "merging\n",
        "merging\n",
        "merging\n",
        "merging\n",
        "merging\n",
        "merging\n"
       ]
      },
      {
       "metadata": {},
       "output_type": "pyout",
       "prompt_number": 65,
       "text": [
        "{'left': {'left': {'left': {'left': 92.523991499999994,\n",
        "    'right': {'left': {'left': {'left': 112.386764,\n",
        "       'right': 123.559747,\n",
        "       'spInd': 0,\n",
        "       'spVal': matrix([[ 0.960398]])},\n",
        "      'right': 135.83701300000001,\n",
        "      'spInd': 0,\n",
        "      'spVal': matrix([[ 0.958512]])},\n",
        "     'right': 111.2013225,\n",
        "     'spInd': 0,\n",
        "     'spVal': matrix([[ 0.956951]])},\n",
        "    'spInd': 0,\n",
        "    'spVal': matrix([[ 0.965969]])},\n",
        "   'right': {'left': {'left': {'left': {'left': {'left': {'left': {'left': {'left': {'left': {'left': {'left': 96.41885225,\n",
        "              'right': 69.318648999999994,\n",
        "              'spInd': 0,\n",
        "              'spVal': matrix([[ 0.948822]])},\n",
        "             'right': {'left': {'left': 110.03503850000001,\n",
        "               'right': {'left': 65.548417999999998,\n",
        "                'right': {'left': 115.75399400000001,\n",
        "                 'right': {'left': {'left': 94.396114499999996,\n",
        "                   'right': 85.005351000000005,\n",
        "                   'spInd': 0,\n",
        "                   'spVal': matrix([[ 0.912161]])},\n",
        "                  'right': {'left': {'left': 106.814667,\n",
        "                    'right': 118.513475,\n",
        "                    'spInd': 0,\n",
        "                    'spVal': matrix([[ 0.908629]])},\n",
        "                   'right': {'left': 87.300624999999997,\n",
        "                    'right': {'left': {'left': 100.133819,\n",
        "                      'right': 108.09493399999999,\n",
        "                      'spInd': 0,\n",
        "                      'spVal': matrix([[ 0.900699]])},\n",
        "                     'right': {'left': 82.436685999999995,\n",
        "                      'right': {'left': 98.544549499999988,\n",
        "                       'right': 106.16859550000001,\n",
        "                       'spInd': 0,\n",
        "                       'spVal': matrix([[ 0.872199]])},\n",
        "                      'spInd': 0,\n",
        "                      'spVal': matrix([[ 0.888426]])},\n",
        "                     'spInd': 0,\n",
        "                     'spVal': matrix([[ 0.892999]])},\n",
        "                    'spInd': 0,\n",
        "                    'spVal': matrix([[ 0.901421]])},\n",
        "                   'spInd': 0,\n",
        "                   'spVal': matrix([[ 0.901444]])},\n",
        "                  'spInd': 0,\n",
        "                  'spVal': matrix([[ 0.910975]])},\n",
        "                 'spInd': 0,\n",
        "                 'spVal': matrix([[ 0.925782]])},\n",
        "                'spInd': 0,\n",
        "                'spVal': matrix([[ 0.934853]])},\n",
        "               'spInd': 0,\n",
        "               'spVal': matrix([[ 0.936524]])},\n",
        "              'right': {'left': {'left': 89.20993,\n",
        "                'right': 76.240983999999997,\n",
        "                'spInd': 0,\n",
        "                'spVal': matrix([[ 0.847219]])},\n",
        "               'right': 95.893130999999997,\n",
        "               'spInd': 0,\n",
        "               'spVal': matrix([[ 0.84294]])},\n",
        "              'spInd': 0,\n",
        "              'spVal': matrix([[ 0.85497]])},\n",
        "             'spInd': 0,\n",
        "             'spVal': matrix([[ 0.944221]])},\n",
        "            'right': 60.552307999999996,\n",
        "            'spInd': 0,\n",
        "            'spVal': matrix([[ 0.841625]])},\n",
        "           'right': 124.87935300000001,\n",
        "           'spInd': 0,\n",
        "           'spVal': matrix([[ 0.841547]])},\n",
        "          'right': {'left': 76.723834999999994,\n",
        "           'right': {'left': 59.342323,\n",
        "            'right': 70.054507999999998,\n",
        "            'spInd': 0,\n",
        "            'spVal': matrix([[ 0.819722]])},\n",
        "           'spInd': 0,\n",
        "           'spVal': matrix([[ 0.823848]])},\n",
        "          'spInd': 0,\n",
        "          'spVal': matrix([[ 0.833026]])},\n",
        "         'right': {'left': 118.319942,\n",
        "          'right': {'left': 99.841379000000003,\n",
        "           'right': 112.981216,\n",
        "           'spInd': 0,\n",
        "           'spVal': matrix([[ 0.811363]])},\n",
        "          'spInd': 0,\n",
        "          'spVal': matrix([[ 0.811602]])},\n",
        "         'spInd': 0,\n",
        "         'spVal': matrix([[ 0.815215]])},\n",
        "        'right': 73.494399250000001,\n",
        "        'spInd': 0,\n",
        "        'spVal': matrix([[ 0.806158]])},\n",
        "       'right': {'left': 114.4008695,\n",
        "        'right': 102.26514075,\n",
        "        'spInd': 0,\n",
        "        'spVal': matrix([[ 0.786865]])},\n",
        "       'spInd': 0,\n",
        "       'spVal': matrix([[ 0.790312]])},\n",
        "      'right': 64.041940999999994,\n",
        "      'spInd': 0,\n",
        "      'spVal': matrix([[ 0.769043]])},\n",
        "     'right': 115.199195,\n",
        "     'spInd': 0,\n",
        "     'spVal': matrix([[ 0.763328]])},\n",
        "    'right': 78.085643250000004,\n",
        "    'spInd': 0,\n",
        "    'spVal': matrix([[ 0.759504]])},\n",
        "   'spInd': 0,\n",
        "   'spVal': matrix([[ 0.952833]])},\n",
        "  'right': {'left': {'left': {'left': {'left': {'left': {'left': {'left': 110.90282999999999,\n",
        "         'right': {'left': 103.345308,\n",
        "          'right': 108.55391899999999,\n",
        "          'spInd': 0,\n",
        "          'spVal': matrix([[ 0.710234]])},\n",
        "         'spInd': 0,\n",
        "         'spVal': matrix([[ 0.716211]])},\n",
        "        'right': 135.41676699999999,\n",
        "        'spInd': 0,\n",
        "        'spVal': matrix([[ 0.70889]])},\n",
        "       'right': {'left': {'left': {'left': {'left': 106.18042699999999,\n",
        "           'right': 105.062147,\n",
        "           'spInd': 0,\n",
        "           'spVal': matrix([[ 0.70639]])},\n",
        "          'right': 115.58660500000001,\n",
        "          'spInd': 0,\n",
        "          'spVal': matrix([[ 0.699873]])},\n",
        "         'right': 92.470635999999999,\n",
        "         'spInd': 0,\n",
        "         'spVal': matrix([[ 0.69892]])},\n",
        "        'right': {'left': 120.521925,\n",
        "         'right': {'left': 101.91115275,\n",
        "          'right': 112.78136649999999,\n",
        "          'spInd': 0,\n",
        "          'spVal': matrix([[ 0.666452]])},\n",
        "         'spInd': 0,\n",
        "         'spVal': matrix([[ 0.689099]])},\n",
        "        'spInd': 0,\n",
        "        'spVal': matrix([[ 0.698472]])},\n",
        "       'spInd': 0,\n",
        "       'spVal': matrix([[ 0.706961]])},\n",
        "      'right': {'left': 121.98060700000001,\n",
        "       'right': {'left': 115.687524,\n",
        "        'right': 112.715799,\n",
        "        'spInd': 0,\n",
        "        'spVal': matrix([[ 0.652462]])},\n",
        "       'spInd': 0,\n",
        "       'spVal': matrix([[ 0.661073]])},\n",
        "      'spInd': 0,\n",
        "      'spVal': matrix([[ 0.665329]])},\n",
        "     'right': 82.500765999999999,\n",
        "     'spInd': 0,\n",
        "     'spVal': matrix([[ 0.642707]])},\n",
        "    'right': 140.61394100000001,\n",
        "    'spInd': 0,\n",
        "    'spVal': matrix([[ 0.642373]])},\n",
        "   'right': {'left': {'left': {'left': {'left': 82.713621000000003,\n",
        "       'right': {'left': 91.656616999999997,\n",
        "        'right': 93.645292999999995,\n",
        "        'spInd': 0,\n",
        "        'spVal': matrix([[ 0.632691]])},\n",
        "       'spInd': 0,\n",
        "       'spVal': matrix([[ 0.637999]])},\n",
        "      'right': {'left': 117.62834599999999,\n",
        "       'right': 105.970743,\n",
        "       'spInd': 0,\n",
        "       'spVal': matrix([[ 0.624827]])},\n",
        "      'spInd': 0,\n",
        "      'spVal': matrix([[ 0.628061]])},\n",
        "     'right': 82.04976400000001,\n",
        "     'spInd': 0,\n",
        "     'spVal': matrix([[ 0.623909]])},\n",
        "    'right': {'left': 168.180746,\n",
        "     'right': {'left': {'left': {'left': {'left': {'left': {'left': 93.521395999999996,\n",
        "           'right': {'left': 130.37852899999999,\n",
        "            'right': {'left': 111.9849935,\n",
        "             'right': {'left': 82.589327999999995,\n",
        "              'right': {'left': 114.872056,\n",
        "               'right': 108.43539199999999,\n",
        "               'spInd': 0,\n",
        "               'spVal': matrix([[ 0.569327]])},\n",
        "              'spInd': 0,\n",
        "              'spVal': matrix([[ 0.571214]])},\n",
        "             'spInd': 0,\n",
        "             'spVal': matrix([[ 0.582311]])},\n",
        "            'spInd': 0,\n",
        "            'spVal': matrix([[ 0.589806]])},\n",
        "           'spInd': 0,\n",
        "           'spVal': matrix([[ 0.599142]])},\n",
        "          'right': 82.903944999999993,\n",
        "          'spInd': 0,\n",
        "          'spVal': matrix([[ 0.560301]])},\n",
        "         'right': 129.06244849999999,\n",
        "         'spInd': 0,\n",
        "         'spVal': matrix([[ 0.553797]])},\n",
        "        'right': {'left': 83.114502000000002,\n",
        "         'right': {'left': 97.340526499999996,\n",
        "          'right': 90.995536000000001,\n",
        "          'spInd': 0,\n",
        "          'spVal': matrix([[ 0.537834]])},\n",
        "         'spInd': 0,\n",
        "         'spVal': matrix([[ 0.546601]])},\n",
        "        'spInd': 0,\n",
        "        'spVal': matrix([[ 0.548539]])},\n",
        "       'right': {'left': {'left': 129.76674299999999,\n",
        "         'right': 124.795495,\n",
        "         'spInd': 0,\n",
        "         'spVal': matrix([[ 0.531944]])},\n",
        "        'right': 116.17616200000001,\n",
        "        'spInd': 0,\n",
        "        'spVal': matrix([[ 0.51915]])},\n",
        "       'spInd': 0,\n",
        "       'spVal': matrix([[ 0.533511]])},\n",
        "      'right': {'left': 101.075609,\n",
        "       'right': {'left': 93.292828999999998,\n",
        "        'right': 96.403373000000002,\n",
        "        'spInd': 0,\n",
        "        'spVal': matrix([[ 0.508542]])},\n",
        "       'spInd': 0,\n",
        "       'spVal': matrix([[ 0.508548]])},\n",
        "      'spInd': 0,\n",
        "      'spVal': matrix([[ 0.513332]])},\n",
        "     'spInd': 0,\n",
        "     'spVal': matrix([[ 0.606417]])},\n",
        "    'spInd': 0,\n",
        "    'spVal': matrix([[ 0.613004]])},\n",
        "   'spInd': 0,\n",
        "   'spVal': matrix([[ 0.640515]])},\n",
        "  'spInd': 0,\n",
        "  'spVal': matrix([[ 0.729397]])},\n",
        " 'right': {'left': {'left': {'left': {'left': {'left': 8.5367700000000006,\n",
        "      'right': 27.729263,\n",
        "      'spInd': 0,\n",
        "      'spVal': matrix([[ 0.487381]])},\n",
        "     'right': 5.224234,\n",
        "     'spInd': 0,\n",
        "     'spVal': matrix([[ 0.483803]])},\n",
        "    'right': {'left': -9.7129250000000003,\n",
        "     'right': -23.777531,\n",
        "     'spInd': 0,\n",
        "     'spVal': matrix([[ 0.46568]])},\n",
        "    'spInd': 0,\n",
        "    'spVal': matrix([[ 0.467383]])},\n",
        "   'right': {'left': 30.051931,\n",
        "    'right': 17.171057000000001,\n",
        "    'spInd': 0,\n",
        "    'spVal': matrix([[ 0.463241]])},\n",
        "   'spInd': 0,\n",
        "   'spVal': matrix([[ 0.465561]])},\n",
        "  'right': {'left': -34.044555000000003,\n",
        "   'right': {'left': {'left': {'left': {'left': {'left': -4.1911744999999998,\n",
        "        'right': {'left': {'left': {'left': {'left': 19.745224,\n",
        "            'right': 15.224266,\n",
        "            'spInd': 0,\n",
        "            'spVal': matrix([[ 0.428582]])},\n",
        "           'right': -21.594268,\n",
        "           'spInd': 0,\n",
        "           'spVal': matrix([[ 0.426711]])},\n",
        "          'right': 44.161493,\n",
        "          'spInd': 0,\n",
        "          'spVal': matrix([[ 0.418943]])},\n",
        "         'right': {'left': -26.419288999999999,\n",
        "          'right': 0.63593000000000011,\n",
        "          'spInd': 0,\n",
        "          'spVal': matrix([[ 0.403228]])},\n",
        "         'spInd': 0,\n",
        "         'spVal': matrix([[ 0.412516]])},\n",
        "        'spInd': 0,\n",
        "        'spVal': matrix([[ 0.437652]])},\n",
        "       'right': 23.197474,\n",
        "       'spInd': 0,\n",
        "       'spVal': matrix([[ 0.388789]])},\n",
        "      'right': {'left': {'left': {'left': -29.007783,\n",
        "         'right': {'left': {'left': 13.583555,\n",
        "           'right': 5.2411960000000004,\n",
        "           'spInd': 0,\n",
        "           'spVal': matrix([[ 0.377383]])},\n",
        "          'right': -8.2282969999999995,\n",
        "          'spInd': 0,\n",
        "          'spVal': matrix([[ 0.373501]])},\n",
        "         'spInd': 0,\n",
        "         'spVal': matrix([[ 0.378965]])},\n",
        "        'right': {'left': -32.124495000000003,\n",
        "         'right': {'left': -9.9938275000000001,\n",
        "          'right': -26.851234812500003,\n",
        "          'spInd': 0,\n",
        "          'spVal': matrix([[ 0.350725]])},\n",
        "         'spInd': 0,\n",
        "         'spVal': matrix([[ 0.35679]])},\n",
        "        'spInd': 0,\n",
        "        'spVal': matrix([[ 0.370042]])},\n",
        "       'right': {'left': 22.286959625000001,\n",
        "        'right': {'left': {'left': -20.397333499999998,\n",
        "          'right': -49.939515999999998,\n",
        "          'spInd': 0,\n",
        "          'spVal': matrix([[ 0.310956]])},\n",
        "         'right': {'left': {'left': {'left': {'left': {'left': {'left': {'left': {'left': {'left': {'left': 8.8147249999999993,\n",
        "                   'right': {'left': -18.051317999999998,\n",
        "                    'right': {'left': -1.7983769999999999,\n",
        "                     'right': {'left': -14.988279,\n",
        "                      'right': -14.391613,\n",
        "                      'spInd': 0,\n",
        "                      'spVal': matrix([[ 0.290749]])},\n",
        "                     'spInd': 0,\n",
        "                     'spVal': matrix([[ 0.295993]])},\n",
        "                    'spInd': 0,\n",
        "                    'spVal': matrix([[ 0.297107]])},\n",
        "                   'spInd': 0,\n",
        "                   'spVal': matrix([[ 0.300318]])},\n",
        "                  'right': {'left': 35.623745999999997,\n",
        "                   'right': {'left': -9.4575560000000003,\n",
        "                    'right': {'left': 5.2805790000000004,\n",
        "                     'right': 2.5579230000000002,\n",
        "                     'spInd': 0,\n",
        "                     'spVal': matrix([[ 0.264639]])},\n",
        "                    'spInd': 0,\n",
        "                    'spVal': matrix([[ 0.264926]])},\n",
        "                   'spInd': 0,\n",
        "                   'spVal': matrix([[ 0.273863]])},\n",
        "                  'spInd': 0,\n",
        "                  'spVal': matrix([[ 0.284794]])},\n",
        "                 'right': {'left': {'left': -9.601409499999999,\n",
        "                   'right': -30.812912000000001,\n",
        "                   'spInd': 0,\n",
        "                   'spVal': matrix([[ 0.228751]])},\n",
        "                  'right': -2.266273,\n",
        "                  'spInd': 0,\n",
        "                  'spVal': matrix([[ 0.228628]])},\n",
        "                 'spInd': 0,\n",
        "                 'spVal': matrix([[ 0.25807]])},\n",
        "                'right': 6.0992389999999999,\n",
        "                'spInd': 0,\n",
        "                'spVal': matrix([[ 0.228473]])},\n",
        "               'right': {'left': -16.427370249999999,\n",
        "                'right': -2.6781804999999999,\n",
        "                'spInd': 0,\n",
        "                'spVal': matrix([[ 0.202161]])},\n",
        "               'spInd': 0,\n",
        "               'spVal': matrix([[ 0.211633]])},\n",
        "              'right': 9.5773855000000001,\n",
        "              'spInd': 0,\n",
        "              'spVal': matrix([[ 0.193282]])},\n",
        "             'right': {'left': {'left': {'left': -14.740059,\n",
        "                'right': -6.5125060000000001,\n",
        "                'spInd': 0,\n",
        "                'spVal': matrix([[ 0.166431]])},\n",
        "               'right': -27.405211000000001,\n",
        "               'spInd': 0,\n",
        "               'spVal': matrix([[ 0.164134]])},\n",
        "              'right': 0.225886,\n",
        "              'spInd': 0,\n",
        "              'spVal': matrix([[ 0.156273]])},\n",
        "             'spInd': 0,\n",
        "             'spVal': matrix([[ 0.166765]])},\n",
        "            'right': {'left': 7.5573490000000003,\n",
        "             'right': 7.3367839999999998,\n",
        "             'spInd': 0,\n",
        "             'spVal': matrix([[ 0.13988]])},\n",
        "            'spInd': 0,\n",
        "            'spVal': matrix([[ 0.156067]])},\n",
        "           'right': -29.087463,\n",
        "           'spInd': 0,\n",
        "           'spVal': matrix([[ 0.138619]])},\n",
        "          'right': 22.478290999999999,\n",
        "          'spInd': 0,\n",
        "          'spVal': matrix([[ 0.131833]])},\n",
        "         'spInd': 0,\n",
        "         'spVal': matrix([[ 0.309133]])},\n",
        "        'spInd': 0,\n",
        "        'spVal': matrix([[ 0.324274]])},\n",
        "       'spInd': 0,\n",
        "       'spVal': matrix([[ 0.335182]])},\n",
        "      'spInd': 0,\n",
        "      'spVal': matrix([[ 0.382037]])},\n",
        "     'right': -39.524461000000002,\n",
        "     'spInd': 0,\n",
        "     'spVal': matrix([[ 0.130626]])},\n",
        "    'right': {'left': 22.891674999999999,\n",
        "     'right': {'left': {'left': 6.1965159999999999,\n",
        "       'right': {'left': -16.106164,\n",
        "        'right': {'left': -1.2931950000000001,\n",
        "         'right': -10.137104000000001,\n",
        "         'spInd': 0,\n",
        "         'spVal': matrix([[ 0.085873]])},\n",
        "        'spInd': 0,\n",
        "        'spVal': matrix([[ 0.10796]])},\n",
        "       'spInd': 0,\n",
        "       'spVal': matrix([[ 0.108801]])},\n",
        "      'right': {'left': 37.820658999999999,\n",
        "       'right': {'left': -24.132225999999999,\n",
        "        'right': {'left': 15.824970500000001,\n",
        "         'right': {'left': -15.160836,\n",
        "          'right': {'left': {'left': {'left': 6.6955669999999996,\n",
        "             'right': -3.131497,\n",
        "             'spInd': 0,\n",
        "             'spVal': matrix([[ 0.055862]])},\n",
        "            'right': -13.731698,\n",
        "            'spInd': 0,\n",
        "            'spVal': matrix([[ 0.053764]])},\n",
        "           'right': 4.0916259999999998,\n",
        "           'spInd': 0,\n",
        "           'spVal': matrix([[ 0.044737]])},\n",
        "          'spInd': 0,\n",
        "          'spVal': matrix([[ 0.061219]])},\n",
        "         'spInd': 0,\n",
        "         'spVal': matrix([[ 0.068373]])},\n",
        "        'spInd': 0,\n",
        "        'spVal': matrix([[ 0.080061]])},\n",
        "       'spInd': 0,\n",
        "       'spVal': matrix([[ 0.084661]])},\n",
        "      'spInd': 0,\n",
        "      'spVal': matrix([[ 0.085111]])},\n",
        "     'spInd': 0,\n",
        "     'spVal': matrix([[ 0.124723]])},\n",
        "    'spInd': 0,\n",
        "    'spVal': matrix([[ 0.126833]])},\n",
        "   'spInd': 0,\n",
        "   'spVal': matrix([[ 0.455761]])},\n",
        "  'spInd': 0,\n",
        "  'spVal': matrix([[ 0.457563]])},\n",
        " 'spInd': 0,\n",
        " 'spVal': matrix([[ 0.499171]])}"
       ]
      }
     ],
     "prompt_number": 65
    },
    {
     "cell_type": "heading",
     "level": 2,
     "metadata": {},
     "source": [
      "9.5 \ubaa8\ub378 \ud2b8\ub9ac"
     ]
    },
    {
     "cell_type": "code",
     "collapsed": false,
     "input": [
      "def linearSolve(dataSet):   #helper function used in two places\n",
      "    m,n = shape(dataSet)\n",
      "    X = mat(ones((m,n))); Y = mat(ones((m,1)))#create a copy of data with 1 in 0th postion\n",
      "    X[:,1:n] = dataSet[:,0:n-1]; Y = dataSet[:,-1]#and strip out Y\n",
      "    xTx = X.T*X\n",
      "    if linalg.det(xTx) == 0.0:\n",
      "        raise NameError('This matrix is singular, cannot do inverse,\\n\\\n",
      "        try increasing the second value of ops')\n",
      "    ws = xTx.I * (X.T * Y)\n",
      "    return ws,X,Y\n",
      "\n",
      "def modelLeaf(dataSet):#create linear model and return coeficients\n",
      "    ws,X,Y = linearSolve(dataSet)\n",
      "    return ws\n",
      "\n",
      "def modelErr(dataSet):\n",
      "    ws,X,Y = linearSolve(dataSet)\n",
      "    yHat = X * ws\n",
      "    return sum(power(Y - yHat,2))"
     ],
     "language": "python",
     "metadata": {},
     "outputs": [],
     "prompt_number": 75
    },
    {
     "cell_type": "code",
     "collapsed": false,
     "input": [
      "myMat2=mat(loadDataSet('exp2.txt'))"
     ],
     "language": "python",
     "metadata": {},
     "outputs": [],
     "prompt_number": 76
    },
    {
     "cell_type": "code",
     "collapsed": false,
     "input": [
      "\n",
      "createTree(myMat2, modelLeaf, modelErr, (1,10))"
     ],
     "language": "python",
     "metadata": {},
     "outputs": [
      {
       "metadata": {},
       "output_type": "pyout",
       "prompt_number": 84,
       "text": [
        "{'left': matrix([[  1.69855694e-03],\n",
        "         [  1.19647739e+01]]), 'right': matrix([[ 3.46877936],\n",
        "         [ 1.18521743]]), 'spInd': 0, 'spVal': matrix([[ 0.285477]])}"
       ]
      }
     ],
     "prompt_number": 84
    },
    {
     "cell_type": "heading",
     "level": 2,
     "metadata": {},
     "source": [
      "9.6 \uc77c\ubc18\ud68c\uadc0 vs \ud2b8\ub9ac"
     ]
    },
    {
     "cell_type": "code",
     "collapsed": false,
     "input": [
      "def regTreeEval(model, inDat):\n",
      "    return float(model)\n",
      "\n",
      "def modelTreeEval(model, inDat):\n",
      "    n = shape(inDat)[1]\n",
      "    X = mat(ones((1,n+1)))\n",
      "    X[:,1:n+1]=inDat\n",
      "    return float(X*model)\n",
      "\n",
      "def treeForeCast(tree, inData, modelEval=regTreeEval):\n",
      "    if not isTree(tree): return modelEval(tree, inData)\n",
      "    if inData[tree['spInd']] > tree['spVal']:\n",
      "        if isTree(tree['left']): return treeForeCast(tree['left'], inData, modelEval)\n",
      "        else: return modelEval(tree['left'], inData)\n",
      "    else:\n",
      "        if isTree(tree['right']): return treeForeCast(tree['right'], inData, modelEval)\n",
      "        else: return modelEval(tree['right'], inData)\n",
      "        \n",
      "def createForeCast(tree, testData, modelEval=regTreeEval):\n",
      "    m=len(testData)\n",
      "    yHat = mat(zeros((m,1)))\n",
      "    for i in range(m):\n",
      "        yHat[i,0] = treeForeCast(tree, mat(testData[i]), modelEval)\n",
      "    return yHat"
     ],
     "language": "python",
     "metadata": {},
     "outputs": [],
     "prompt_number": 85
    },
    {
     "cell_type": "code",
     "collapsed": false,
     "input": [
      "trainMat=mat(loadDataSet('bikeSpeed_train.txt'))"
     ],
     "language": "python",
     "metadata": {},
     "outputs": [],
     "prompt_number": 89
    },
    {
     "cell_type": "code",
     "collapsed": false,
     "input": [
      "testMat=mat(loadDataSet('bikeSpeed_test.txt'))"
     ],
     "language": "python",
     "metadata": {},
     "outputs": [],
     "prompt_number": 90
    },
    {
     "cell_type": "code",
     "collapsed": false,
     "input": [
      "myTree=createTree(trainMat, ops=(1,20))"
     ],
     "language": "python",
     "metadata": {},
     "outputs": [],
     "prompt_number": 91
    },
    {
     "cell_type": "code",
     "collapsed": false,
     "input": [
      "yHat=createForeCast(myTree,testMat[:,0])"
     ],
     "language": "python",
     "metadata": {},
     "outputs": [],
     "prompt_number": 93
    },
    {
     "cell_type": "code",
     "collapsed": false,
     "input": [
      "corrcoef(yHat,testMat[:,1],rowvar=0)[0,1]"
     ],
     "language": "python",
     "metadata": {},
     "outputs": [
      {
       "metadata": {},
       "output_type": "pyout",
       "prompt_number": 94,
       "text": [
        "0.9640852318222134"
       ]
      }
     ],
     "prompt_number": 94
    },
    {
     "cell_type": "code",
     "collapsed": false,
     "input": [
      "myTree=createTree(trainMat,modelLeaf,modelErr,(1,20))"
     ],
     "language": "python",
     "metadata": {},
     "outputs": [],
     "prompt_number": 95
    },
    {
     "cell_type": "code",
     "collapsed": false,
     "input": [
      "yHat=createForeCast(myTree,testMat[:,0],modelTreeEval)"
     ],
     "language": "python",
     "metadata": {},
     "outputs": [],
     "prompt_number": 98
    },
    {
     "cell_type": "code",
     "collapsed": true,
     "input": [
      "corrcoef(yHat,testMat[:,1],rowvar=0)[0,1]"
     ],
     "language": "python",
     "metadata": {},
     "outputs": [
      {
       "metadata": {},
       "output_type": "pyout",
       "prompt_number": 99,
       "text": [
        "0.9760412191380603"
       ]
      }
     ],
     "prompt_number": 99
    },
    {
     "cell_type": "code",
     "collapsed": false,
     "input": [
      "ws,X,Y=linearSolve(trainMat)"
     ],
     "language": "python",
     "metadata": {},
     "outputs": [],
     "prompt_number": 100
    },
    {
     "cell_type": "code",
     "collapsed": false,
     "input": [
      "ws"
     ],
     "language": "python",
     "metadata": {},
     "outputs": [
      {
       "metadata": {},
       "output_type": "pyout",
       "prompt_number": 101,
       "text": [
        "matrix([[ 37.58916794],\n",
        "        [  6.18978355]])"
       ]
      }
     ],
     "prompt_number": 101
    },
    {
     "cell_type": "code",
     "collapsed": false,
     "input": [
      "for i in range(shape(testMat)[0]):\n",
      "               yHat[i]=testMat[i,0]*ws[1,0]+ws[0,0]\n",
      "               "
     ],
     "language": "python",
     "metadata": {},
     "outputs": [],
     "prompt_number": 104
    },
    {
     "cell_type": "code",
     "collapsed": false,
     "input": [
      "corrcoef(yHat,testMat[:,1],rowvar=0)[0,1]"
     ],
     "language": "python",
     "metadata": {},
     "outputs": [
      {
       "metadata": {},
       "output_type": "pyout",
       "prompt_number": 105,
       "text": [
        "0.94346842356747629"
       ]
      }
     ],
     "prompt_number": 105
    },
    {
     "cell_type": "heading",
     "level": 2,
     "metadata": {},
     "source": [
      "9.7 GUI - Tkinter"
     ]
    },
    {
     "cell_type": "code",
     "collapsed": false,
     "input": [
      "from numpy import *\n",
      "\n",
      "from Tkinter import *\n",
      "#import regTrees\n",
      "\n",
      "def reDraw(tolS,tolN):\n",
      "    reDraw.f.clf()        # clear the figure\n",
      "    reDraw.a = reDraw.f.add_subplot(111)\n",
      "    if chkBtnVar.get():\n",
      "        if tolN < 2: tolN = 2\n",
      "        myTree=regTrees.createTree(reDraw.rawDat, regTrees.modelLeaf,\n",
      "                                   regTrees.modelErr, (tolS,tolN))\n",
      "        yHat = regTrees.createForeCast(myTree, reDraw.testDat, \n",
      "                                       regTrees.modelTreeEval)\n",
      "    else:\n",
      "        myTree=regTrees.createTree(reDraw.rawDat, ops=(tolS,tolN))\n",
      "        yHat = regTrees.createForeCast(myTree, reDraw.testDat)\n",
      "    reDraw.a.scatter(reDraw.rawDat[:,0], reDraw.rawDat[:,1], s=5) #use scatter for data set\n",
      "    reDraw.a.plot(reDraw.testDat, yHat, linewidth=2.0) #use plot for yHat\n",
      "    reDraw.canvas.show()\n",
      "    \n",
      "    \n",
      "def drawNewTree():\n",
      "    tolN,tolS = getInputs()#get values from Entry boxes\n",
      "    reDraw(tolS,tolN)\n",
      "\n",
      "root=Tk()\n",
      "\n",
      "reDraw.f = Figure(figsize=(5,4), dpi=100) #create canvas\n",
      "reDraw.canvas = FigureCanvasTkAgg(reDraw.f, master=root)\n",
      "reDraw.canvas.show()\n",
      "reDraw.canvas.get_tk_widget().grid(row=0, columnspan=3)\n",
      "\n",
      "Label(root, text=\"tolN\").grid(row=1, column=0)\n",
      "tolNentry = Entry(root)\n",
      "tolNentry.grid(row=1, column=1)\n",
      "tolNentry.insert(0,'10')\n",
      "Label(root, text=\"tolS\").grid(row=2, column=0)\n",
      "tolSentry = Entry(root)\n",
      "tolSentry.grid(row=2, column=1)\n",
      "tolSentry.insert(0,'1.0')\n",
      "Button(root, text=\"ReDraw\", command=drawNewTree).grid(row=1, column=2, rowspan=3)\n",
      "chkBtnVar = IntVar()\n",
      "chkBtn = Checkbutton(root, text=\"Model Tree\", variable = chkBtnVar)\n",
      "chkBtn.grid(row=3, column=0, columnspan=2)\n",
      "\n",
      "reDraw.rawDat = mat(regTrees.loadDataSet('sine.txt'))\n",
      "reDraw.testDat = arange(min(reDraw.rawDat[:,0]),max(reDraw.rawDat[:,0]),0.01)\n",
      "reDraw(1.0, 10)\n",
      "               \n",
      "root.mainloop()\n"
     ],
     "language": "python",
     "metadata": {},
     "outputs": [
      {
       "ename": "NameError",
       "evalue": "name 'Figure' is not defined",
       "output_type": "pyerr",
       "traceback": [
        "\u001b[1;31m---------------------------------------------------------------------------\u001b[0m\n\u001b[1;31mNameError\u001b[0m                                 Traceback (most recent call last)",
        "\u001b[1;32m<ipython-input-122-c5b8c5d894f5>\u001b[0m in \u001b[0;36m<module>\u001b[1;34m()\u001b[0m\n\u001b[0;32m     27\u001b[0m \u001b[0mroot\u001b[0m\u001b[1;33m=\u001b[0m\u001b[0mTk\u001b[0m\u001b[1;33m(\u001b[0m\u001b[1;33m)\u001b[0m\u001b[1;33m\u001b[0m\u001b[0m\n\u001b[0;32m     28\u001b[0m \u001b[1;33m\u001b[0m\u001b[0m\n\u001b[1;32m---> 29\u001b[1;33m \u001b[0mreDraw\u001b[0m\u001b[1;33m.\u001b[0m\u001b[0mf\u001b[0m \u001b[1;33m=\u001b[0m \u001b[0mFigure\u001b[0m\u001b[1;33m(\u001b[0m\u001b[0mfigsize\u001b[0m\u001b[1;33m=\u001b[0m\u001b[1;33m(\u001b[0m\u001b[1;36m5\u001b[0m\u001b[1;33m,\u001b[0m\u001b[1;36m4\u001b[0m\u001b[1;33m)\u001b[0m\u001b[1;33m,\u001b[0m \u001b[0mdpi\u001b[0m\u001b[1;33m=\u001b[0m\u001b[1;36m100\u001b[0m\u001b[1;33m)\u001b[0m \u001b[1;31m#create canvas\u001b[0m\u001b[1;33m\u001b[0m\u001b[0m\n\u001b[0m\u001b[0;32m     30\u001b[0m \u001b[0mreDraw\u001b[0m\u001b[1;33m.\u001b[0m\u001b[0mcanvas\u001b[0m \u001b[1;33m=\u001b[0m \u001b[0mFigureCanvasTkAgg\u001b[0m\u001b[1;33m(\u001b[0m\u001b[0mreDraw\u001b[0m\u001b[1;33m.\u001b[0m\u001b[0mf\u001b[0m\u001b[1;33m,\u001b[0m \u001b[0mmaster\u001b[0m\u001b[1;33m=\u001b[0m\u001b[0mroot\u001b[0m\u001b[1;33m)\u001b[0m\u001b[1;33m\u001b[0m\u001b[0m\n\u001b[0;32m     31\u001b[0m \u001b[0mreDraw\u001b[0m\u001b[1;33m.\u001b[0m\u001b[0mcanvas\u001b[0m\u001b[1;33m.\u001b[0m\u001b[0mshow\u001b[0m\u001b[1;33m(\u001b[0m\u001b[1;33m)\u001b[0m\u001b[1;33m\u001b[0m\u001b[0m\n",
        "\u001b[1;31mNameError\u001b[0m: name 'Figure' is not defined"
       ]
      }
     ],
     "prompt_number": 122
    },
    {
     "cell_type": "code",
     "collapsed": false,
     "input": [
      "from Tkinter import *\n",
      "root=Tk()"
     ],
     "language": "python",
     "metadata": {},
     "outputs": [],
     "prompt_number": 110
    },
    {
     "cell_type": "code",
     "collapsed": false,
     "input": [
      "myLebel= Label(root, text=\"Hello World\")"
     ],
     "language": "python",
     "metadata": {},
     "outputs": [],
     "prompt_number": 111
    },
    {
     "cell_type": "code",
     "collapsed": false,
     "input": [
      "grid()"
     ],
     "language": "python",
     "metadata": {},
     "outputs": [
      {
       "ename": "NameError",
       "evalue": "name 'grid' is not defined",
       "output_type": "pyerr",
       "traceback": [
        "\u001b[1;31m---------------------------------------------------------------------------\u001b[0m\n\u001b[1;31mNameError\u001b[0m                                 Traceback (most recent call last)",
        "\u001b[1;32m<ipython-input-113-03860d0eda65>\u001b[0m in \u001b[0;36m<module>\u001b[1;34m()\u001b[0m\n\u001b[1;32m----> 1\u001b[1;33m \u001b[0mgrid\u001b[0m\u001b[1;33m(\u001b[0m\u001b[1;33m)\u001b[0m\u001b[1;33m\u001b[0m\u001b[0m\n\u001b[0m",
        "\u001b[1;31mNameError\u001b[0m: name 'grid' is not defined"
       ]
      }
     ],
     "prompt_number": 113
    },
    {
     "cell_type": "code",
     "collapsed": false,
     "input": [],
     "language": "python",
     "metadata": {},
     "outputs": []
    }
   ],
   "metadata": {}
  }
 ]
}
{
 "metadata": {
  "name": "",
  "signature": "sha256:551dccde08d3020d7b150d366859482ff7e5bc95a739b06fc5e86fa25d8b7026"
 },
 "nbformat": 3,
 "nbformat_minor": 0,
 "worksheets": [
  {
   "cells": [
    {
     "cell_type": "code",
     "collapsed": false,
     "input": [
      "import numpy as np\n",
      "\n",
      "# np.set_printoptions(precision=3) #numpy print format\n",
      "def buildWeakLearner1():\n",
      "    h=[]\n",
      "    h1=lambda x:1 if x<2.5 else -1\n",
      "    h2=lambda x:1 if x<8.5 else -1\n",
      "    h3=lambda x:1 if x>5.5 else -1\n",
      "    h.append(h1)\n",
      "    h.append(h2)\n",
      "    h.append(h3)\n",
      "    return h\n",
      "\n",
      "\n"
     ],
     "language": "python",
     "metadata": {},
     "outputs": [],
     "prompt_number": 11
    },
    {
     "cell_type": "code",
     "collapsed": false,
     "input": [
      "# x0=[0,1,2,3,4,5,6,7,8,9]\n",
      "# y=[1,1,1,-1,-1,-1,1,1,1,-1]\n",
      "h=buildWeakLearner1()\n",
      "print h[1](3)\n",
      "\n"
     ],
     "language": "python",
     "metadata": {},
     "outputs": [
      {
       "output_type": "stream",
       "stream": "stdout",
       "text": [
        "1\n"
       ]
      }
     ],
     "prompt_number": 20
    },
    {
     "cell_type": "code",
     "collapsed": false,
     "input": [
      "# y=[1,1,1,-1,-1,-1,1,1,1,-1]\n",
      "h=buildWeakLearner1()\n",
      "\n",
      "for i in range(len(h)):\n",
      "    print h[i](3)\n",
      "\n"
     ],
     "language": "python",
     "metadata": {},
     "outputs": [
      {
       "output_type": "stream",
       "stream": "stdout",
       "text": [
        "-1\n",
        "1\n",
        "-1\n"
       ]
      }
     ],
     "prompt_number": 19
    },
    {
     "cell_type": "code",
     "collapsed": false,
     "input": [
      "def adaboostTrain(x,y,h):\n",
      "    alphas=[]\n",
      "    r=len(x)\n",
      "    D=np.ones(r)/r # initially equal porb. (then keep updated) \n",
      "    K = len(h)\n",
      "    for k in range(K):\n",
      "        # 1) get results from a weak classifier\n",
      "        yhat=[h[k](i) for i in x]\n",
      "        # 2) compute alpha\n",
      "        errors =[y[i] != yhat[i] for i in range(r)]\n",
      "        e=(D*errors).sum()\n",
      "        alpha=0.5 * np.log((1-e)/e) #\n",
      "        print \"x={0}\\nyhat={1}\\ny={2}\\nerrors={3} alpha={4:0.3f}\".format(x,yhat,y,e,alpha)\n",
      "        # 3) update\n",
      "        Dk = np.zeros(r)\n",
      "        for i in range(r):\n",
      "            if errors[i] == 1: Dk[i] = D[i] * np.exp(alpha)\n",
      "            else: Dk[i] = D[i] * np.exp(-alpha)\n",
      "        D = Dk / Dk.sum()\n",
      "        print \"D={0}\".format(D)\n",
      "        alphas.append(alpha)\n",
      "    return alphas"
     ],
     "language": "python",
     "metadata": {},
     "outputs": [],
     "prompt_number": 18
    },
    {
     "cell_type": "code",
     "collapsed": false,
     "input": [
      "x0=[0,1,2,3,4,5,6,7,8,9]\n",
      "y=[1,1,1,-1,-1,-1,1,1,1,-1]\n",
      "\n",
      "h=buildWeakLearner1()\n",
      "alphas=adaboostTrain(x0,y,h)\n",
      "print alphas"
     ],
     "language": "python",
     "metadata": {},
     "outputs": [
      {
       "output_type": "stream",
       "stream": "stdout",
       "text": [
        "x=[0, 1, 2, 3, 4, 5, 6, 7, 8, 9]\n",
        "yhat=[1, 1, 1, -1, -1, -1, -1, -1, -1, -1]\n",
        "y=[1, 1, 1, -1, -1, -1, 1, 1, 1, -1]\n",
        "errors=0.3 alpha=0.424\n",
        "D=[ 0.071  0.071  0.071  0.071  0.071  0.071  0.167  0.167  0.167  0.071]\n",
        "x=[0, 1, 2, 3, 4, 5, 6, 7, 8, 9]\n",
        "yhat=[1, 1, 1, 1, 1, 1, 1, 1, 1, -1]\n",
        "y=[1, 1, 1, -1, -1, -1, 1, 1, 1, -1]\n",
        "errors=0.214285714286 alpha=0.650\n",
        "D=[ 0.045  0.045  0.045  0.167  0.167  0.167  0.106  0.106  0.106  0.045]\n",
        "x=[0, 1, 2, 3, 4, 5, 6, 7, 8, 9]\n",
        "yhat=[-1, -1, -1, -1, -1, -1, 1, 1, 1, 1]\n",
        "y=[1, 1, 1, -1, -1, -1, 1, 1, 1, -1]\n",
        "errors=0.181818181818 alpha=0.752\n",
        "D=[ 0.125  0.125  0.125  0.102  0.102  0.102  0.065  0.065  0.065  0.125]\n",
        "[0.42364893019360172, 0.64964149206513044, 0.75203869838813697]\n"
       ]
      }
     ],
     "prompt_number": 23
    },
    {
     "cell_type": "code",
     "collapsed": false,
     "input": [
      "def adaboostClassify(x,h,alphas):\n",
      "    #r=x.shape[0]\n",
      "    K=len(h)\n",
      "    #for i in range(r):\n",
      "    #    hx = [alphas[k]*h[k](x[i]) for k in range(K)]\n",
      "    hx = [alphas[k]*h[k](x) for k in range(K)]\n",
      "    \n",
      "    print hx\n",
      "    return np.sign(sum(hx))\n",
      "\n",
      "\n"
     ],
     "language": "python",
     "metadata": {},
     "outputs": [],
     "prompt_number": 29
    },
    {
     "cell_type": "markdown",
     "metadata": {},
     "source": [
      "\ubaa8\ub4e0 classify\uc744 \ub354\ud558\uba74 \ubd80\ud638\uac12 \uacb0\uc815"
     ]
    },
    {
     "cell_type": "code",
     "collapsed": false,
     "input": [
      "K=len(h)\n",
      "hx = [alphas[k]*h[k](3) for k in range(K)]\n",
      "print hx"
     ],
     "language": "python",
     "metadata": {},
     "outputs": [
      {
       "output_type": "stream",
       "stream": "stdout",
       "text": [
        "[-0.42364893019360172, 0.64964149206513044, -0.75203869838813697]\n"
       ]
      }
     ],
     "prompt_number": 30
    },
    {
     "cell_type": "code",
     "collapsed": false,
     "input": [
      "print np.sign(sum(hx))\n"
     ],
     "language": "python",
     "metadata": {},
     "outputs": [
      {
       "output_type": "stream",
       "stream": "stdout",
       "text": [
        "-1.0\n"
       ]
      }
     ],
     "prompt_number": 31
    },
    {
     "cell_type": "code",
     "collapsed": false,
     "input": [
      "K=len(h)\n",
      "hx = [alphas[k]*h[k](6) for k in range(K)]\n",
      "print hx\n",
      "print np.sign(sum(hx))"
     ],
     "language": "python",
     "metadata": {},
     "outputs": [
      {
       "output_type": "stream",
       "stream": "stdout",
       "text": [
        "[-0.42364893019360172, 0.64964149206513044, 0.75203869838813697]\n",
        "1.0\n"
       ]
      }
     ],
     "prompt_number": 36
    },
    {
     "cell_type": "code",
     "collapsed": false,
     "input": [],
     "language": "python",
     "metadata": {},
     "outputs": []
    }
   ],
   "metadata": {}
  }
 ]
}
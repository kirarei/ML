{
 "metadata": {
  "name": "",
  "signature": "sha256:5f5a7676d3a166c9eb651c71d5fa0aec67988dbb3ba41febb41bcc844e61f504"
 },
 "nbformat": 3,
 "nbformat_minor": 0,
 "worksheets": [
  {
   "cells": [
    {
     "cell_type": "code",
     "collapsed": false,
     "input": [
      "from numpy import *\n",
      "import operator\n",
      "from os import listdir\n",
      "\n",
      "\n",
      "def createDataSet():\n",
      "    group = array([[1.0,1.1],[1.0,1.0],[0,0],[0,0.1]])\n",
      "    labels = ['A','A','B','B']\n",
      "    return group, labels"
     ],
     "language": "python",
     "metadata": {},
     "outputs": [],
     "prompt_number": 31
    },
    {
     "cell_type": "code",
     "collapsed": false,
     "input": [
      "group\n"
     ],
     "language": "python",
     "metadata": {},
     "outputs": [
      {
       "metadata": {},
       "output_type": "pyout",
       "prompt_number": 32,
       "text": [
        "array([[ 1. ,  1.1],\n",
        "       [ 1. ,  1. ],\n",
        "       [ 0. ,  0. ],\n",
        "       [ 0. ,  0.1]])"
       ]
      }
     ],
     "prompt_number": 32
    },
    {
     "cell_type": "code",
     "collapsed": false,
     "input": [
      "labels\n"
     ],
     "language": "python",
     "metadata": {},
     "outputs": [
      {
       "metadata": {},
       "output_type": "pyout",
       "prompt_number": 33,
       "text": [
        "['A', 'A', 'B', 'B']"
       ]
      }
     ],
     "prompt_number": 33
    },
    {
     "cell_type": "code",
     "collapsed": false,
     "input": [
      "#\n",
      "#import os\n",
      "#from numpy import *\n",
      "#import operator\n",
      "#from os import listdir\n",
      "#\n",
      "\n",
      "\n",
      "def classify0(inX, dataSet, labels, k):\n",
      "    dataSetSize = dataSet.shape[0]\n",
      "    diffMat = tile(inX, (dataSetSize,1)) - dataSet\n",
      "    sqDiffMat = diffMat**2\n",
      "    sqDistances = sqDiffMat.sum(axis=1)\n",
      "    distances = sqDistances**0.5\n",
      "    sortedDistIndicies = distances.argsort()\n",
      "    classCount={}\n",
      "    for i in range(k):\n",
      "        voteIlabel = labels[sortedDistIndicies[i]]\n",
      "        classCount[voteIlabel] = classCount.get(voteIlabel,0) + 1\n",
      "    sortedClassCount = sorted(classCount.iteritems(), key=operator.itemgetter(1), reverse=True)\n",
      "    return sortedClassCount[0][0]"
     ],
     "language": "python",
     "metadata": {},
     "outputs": [],
     "prompt_number": 36
    },
    {
     "cell_type": "code",
     "collapsed": false,
     "input": [
      "from numpy import *\n",
      "\n",
      "group,labels = createDataSet()\n",
      "numpy.tile([0,0], group, labels, 3)\n",
      "# kNN.classify0([0,0], group, labels, 3)"
     ],
     "language": "python",
     "metadata": {},
     "outputs": [
      {
       "ename": "NameError",
       "evalue": "name 'numpy' is not defined",
       "output_type": "pyerr",
       "traceback": [
        "\u001b[1;31m---------------------------------------------------------------------------\u001b[0m\n\u001b[1;31mNameError\u001b[0m                                 Traceback (most recent call last)",
        "\u001b[1;32m<ipython-input-64-b04efed71e17>\u001b[0m in \u001b[0;36m<module>\u001b[1;34m()\u001b[0m\n\u001b[0;32m      2\u001b[0m \u001b[1;33m\u001b[0m\u001b[0m\n\u001b[0;32m      3\u001b[0m \u001b[0mgroup\u001b[0m\u001b[1;33m,\u001b[0m\u001b[0mlabels\u001b[0m \u001b[1;33m=\u001b[0m \u001b[0mcreateDataSet\u001b[0m\u001b[1;33m(\u001b[0m\u001b[1;33m)\u001b[0m\u001b[1;33m\u001b[0m\u001b[0m\n\u001b[1;32m----> 4\u001b[1;33m \u001b[0mnumpy\u001b[0m\u001b[1;33m.\u001b[0m\u001b[0mtile\u001b[0m\u001b[1;33m(\u001b[0m\u001b[1;33m[\u001b[0m\u001b[1;36m0\u001b[0m\u001b[1;33m,\u001b[0m\u001b[1;36m0\u001b[0m\u001b[1;33m]\u001b[0m\u001b[1;33m,\u001b[0m \u001b[0mgroup\u001b[0m\u001b[1;33m,\u001b[0m \u001b[0mlabels\u001b[0m\u001b[1;33m,\u001b[0m \u001b[1;36m3\u001b[0m\u001b[1;33m)\u001b[0m\u001b[1;33m\u001b[0m\u001b[0m\n\u001b[0m\u001b[0;32m      5\u001b[0m \u001b[1;31m# kNN.classify0([0,0], group, labels, 3)\u001b[0m\u001b[1;33m\u001b[0m\u001b[1;33m\u001b[0m\u001b[0m\n",
        "\u001b[1;31mNameError\u001b[0m: name 'numpy' is not defined"
       ]
      }
     ],
     "prompt_number": 64
    },
    {
     "cell_type": "code",
     "collapsed": false,
     "input": [
      " for i in range(k):\n",
      "        voteIlabel = labels[sortedDistIndicies[i]]\n",
      "        classCount[voteIlabel] = classCount.get(voteIlabel,0) + 1\n",
      "    sortedClassCount = sorted(classCount.iteritems(), key=operator.itemgetter(1), reverse=True) #\uc544\uc774\ud15c \uc815\ub82c\n",
      "    return sortedClassCount[0][0]"
     ],
     "language": "python",
     "metadata": {},
     "outputs": [
      {
       "ename": "IndentationError",
       "evalue": "unindent does not match any outer indentation level (<ipython-input-65-aefa5376943f>, line 4)",
       "output_type": "pyerr",
       "traceback": [
        "\u001b[1;36m  File \u001b[1;32m\"<ipython-input-65-aefa5376943f>\"\u001b[1;36m, line \u001b[1;32m4\u001b[0m\n\u001b[1;33m    sortedClassCount = sorted(classCount.iteritems(), key=operator.itemgetter(1), reverse=True) #\uc544\uc774\ud15c \uc815\ub82c\u001b[0m\n\u001b[1;37m                                                                                                       \n^\u001b[0m\n\u001b[1;31mIndentationError\u001b[0m\u001b[1;31m:\u001b[0m unindent does not match any outer indentation level\n"
       ]
      }
     ],
     "prompt_number": 65
    },
    {
     "cell_type": "code",
     "collapsed": false,
     "input": [
      "inX = [0,0]\n",
      "dataSet = group\n",
      "\n",
      "dataSetSize = dataSet.shape[0]\n",
      "print dataSetSize\n",
      "\n",
      "diffMat = tile(inX, (dataSetSize, 1)) - dataSet\n",
      "print diffMat\n",
      "\n",
      "sqDiffMat = diffMat **2\n",
      "print sqDiffMat\n",
      "\n",
      "sqDistances = sqDiffMat.sum(axis = 1)\n",
      "print sqDistances\n",
      "\n",
      "distances = sqDistances ** 0.5\n",
      "print distances\n",
      "\n",
      "sortedDistIndicies = distances.argsort()\n",
      "print sortedDistIndicies"
     ],
     "language": "python",
     "metadata": {},
     "outputs": [
      {
       "output_type": "stream",
       "stream": "stdout",
       "text": [
        "4\n",
        "[[-1.  -1.1]\n",
        " [-1.  -1. ]\n",
        " [ 0.   0. ]\n",
        " [ 0.  -0.1]]\n",
        "[[ 1.    1.21]\n",
        " [ 1.    1.  ]\n",
        " [ 0.    0.  ]\n",
        " [ 0.    0.01]]\n",
        "[ 2.21  2.    0.    0.01]\n",
        "[ 1.48660687  1.41421356  0.          0.1       ]\n",
        "[2 3 1 0]\n"
       ]
      }
     ],
     "prompt_number": 40
    },
    {
     "cell_type": "code",
     "collapsed": false,
     "input": [
      "def img2vector(filename):\n",
      "    returnVect = zeros((1,1024))\n",
      "    fr = open(filename)\n",
      "    for i in range(32):\n",
      "        lineStr = fr.readline()\n",
      "        for j in range(32):\n",
      "            returnVect[0,32*i+j] = int(lineStr[j])\n",
      "    return returnVect "
     ],
     "language": "python",
     "metadata": {},
     "outputs": [],
     "prompt_number": 54
    },
    {
     "cell_type": "code",
     "collapsed": false,
     "input": [
      "testVector = img2vector('/Users/smu/Desktop/app_s/code/02/digits/testDigits/0_13.txt')\n",
      "testVector[0, 0:31]"
     ],
     "language": "python",
     "metadata": {},
     "outputs": [
      {
       "metadata": {},
       "output_type": "pyout",
       "prompt_number": 55,
       "text": [
        "array([ 0.,  0.,  0.,  0.,  0.,  0.,  0.,  0.,  0.,  0.,  0.,  0.,  0.,\n",
        "        0.,  1.,  1.,  1.,  1.,  0.,  0.,  0.,  0.,  0.,  0.,  0.,  0.,\n",
        "        0.,  0.,  0.,  0.,  0.])"
       ]
      }
     ],
     "prompt_number": 55
    },
    {
     "cell_type": "code",
     "collapsed": false,
     "input": [
      "def handwritingClassTest():\n",
      "    hwLabels = []\n",
      "    trainingFileList = listdir('/Users/smu/Desktop/app_s/code/02/digits/trainingDigits')           #load the training set\n",
      "    m = len(trainingFileList)\n",
      "print m"
     ],
     "language": "python",
     "metadata": {},
     "outputs": [
      {
       "ename": "NameError",
       "evalue": "name 'm' is not defined",
       "output_type": "pyerr",
       "traceback": [
        "\u001b[1;31m---------------------------------------------------------------------------\u001b[0m\n\u001b[1;31mNameError\u001b[0m                                 Traceback (most recent call last)",
        "\u001b[1;32m<ipython-input-58-b2fdacc544fb>\u001b[0m in \u001b[0;36m<module>\u001b[1;34m()\u001b[0m\n\u001b[0;32m      3\u001b[0m     \u001b[0mtrainingFileList\u001b[0m \u001b[1;33m=\u001b[0m \u001b[0mlistdir\u001b[0m\u001b[1;33m(\u001b[0m\u001b[1;34m'/Users/smu/Desktop/app_s/code/02/digits/trainingDigits'\u001b[0m\u001b[1;33m)\u001b[0m           \u001b[1;31m#load the training set\u001b[0m\u001b[1;33m\u001b[0m\u001b[0m\n\u001b[0;32m      4\u001b[0m     \u001b[0mm\u001b[0m \u001b[1;33m=\u001b[0m \u001b[0mlen\u001b[0m\u001b[1;33m(\u001b[0m\u001b[0mtrainingFileList\u001b[0m\u001b[1;33m)\u001b[0m\u001b[1;33m\u001b[0m\u001b[0m\n\u001b[1;32m----> 5\u001b[1;33m \u001b[1;32mprint\u001b[0m \u001b[0mm\u001b[0m\u001b[1;33m\u001b[0m\u001b[0m\n\u001b[0m",
        "\u001b[1;31mNameError\u001b[0m: name 'm' is not defined"
       ]
      }
     ],
     "prompt_number": 58
    },
    {
     "cell_type": "code",
     "collapsed": false,
     "input": [
      "def handwritingClassTest():\n",
      "    hwLabels = []\n",
      "    trainingFileList = listdir('/home/rooda/machinelearninginaction/Ch02/digits/trainingDigits')           #load the training set\n",
      "    m = len(trainingFileList)\n",
      "    print m\n",
      "    trainingMat = zeros((m,1024))\n",
      "    for i in range(m):\n",
      "        fileNameStr = trainingFileList[i]\n",
      "        fileStr = fileNameStr.split('.')[0]     #take off .txt\n",
      "        classNumStr = int(fileStr.split('_')[0])\n",
      "        hwLabels.append(classNumStr)\n",
      "        trainingMat[i,:] = img2vector('/Users/smu/Desktop/app_s/code/02/digits/trainingDigits/%s' % fileNameStr)\n",
      "    testFileList = listdir('/Users/smu/Desktop/app_s/code/02/digits/testDigits')\n",
      "    errorCount = 0.0\n",
      "    mTest = len(testFileList)\n",
      "    for i in range(mTest):\n",
      "        fileNameStr = testFileList[i]\n",
      "        fileStr = fileNameStr.split('.')[0]     #take off .txt\n",
      "        classNumStr = int(fileStr.split('_')[0])\n",
      "        vectorUnderTest = img2vector('/Users/smu/Desktop/app_s/code/02/digits/testDigits/%s' % fileNameStr)\n",
      "        classifierResult = classify0(vectorUnderTest, trainingMat, hwLabels, 3)\n",
      "        print \"the classifier came back with: %d, the real answer is: %d\" % (classifierResult, classNumStr)\n",
      "        if (classifierResult != classNumStr): errorCount += 1.0\n",
      "    print \"\\nthe total number of errors is: %d\" % errorCount\n",
      "    print \"\\nthe total error rate is: %f\" % (errorCount/float(mTest))"
     ],
     "language": "python",
     "metadata": {},
     "outputs": [],
     "prompt_number": 61
    },
    {
     "cell_type": "code",
     "collapsed": false,
     "input": [
      "print"
     ],
     "language": "python",
     "metadata": {},
     "outputs": []
    }
   ],
   "metadata": {}
  }
 ]
}